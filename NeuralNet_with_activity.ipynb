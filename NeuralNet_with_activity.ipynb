{
 "cells": [
  {
   "cell_type": "markdown",
   "metadata": {},
   "source": [
    "# Combine Datasets"
   ]
  },
  {
   "cell_type": "code",
   "execution_count": 19,
   "metadata": {},
   "outputs": [
    {
     "data": {
      "text/html": [
       "<div>\n",
       "<style scoped>\n",
       "    .dataframe tbody tr th:only-of-type {\n",
       "        vertical-align: middle;\n",
       "    }\n",
       "\n",
       "    .dataframe tbody tr th {\n",
       "        vertical-align: top;\n",
       "    }\n",
       "\n",
       "    .dataframe thead th {\n",
       "        text-align: right;\n",
       "    }\n",
       "</style>\n",
       "<table border=\"1\" class=\"dataframe\">\n",
       "  <thead>\n",
       "    <tr style=\"text-align: right;\">\n",
       "      <th></th>\n",
       "      <th>time</th>\n",
       "      <th>mRegistered</th>\n",
       "      <th>mTimeStamp</th>\n",
       "      <th>mPci</th>\n",
       "      <th>mTac</th>\n",
       "      <th>mEarfcn</th>\n",
       "      <th>mMcc+mMnc</th>\n",
       "      <th>ss</th>\n",
       "      <th>rsrp</th>\n",
       "      <th>rsrq</th>\n",
       "      <th>activity</th>\n",
       "      <th>nextAP</th>\n",
       "      <th>handoverOccured</th>\n",
       "      <th>max_ss</th>\n",
       "      <th>max_rsrp</th>\n",
       "      <th>max_rsrq</th>\n",
       "      <th>diff_in_ss</th>\n",
       "      <th>diff_in_rsrp</th>\n",
       "      <th>diff_in_rsrq</th>\n",
       "    </tr>\n",
       "  </thead>\n",
       "  <tbody>\n",
       "    <tr>\n",
       "      <th>0</th>\n",
       "      <td>11-06 17:05:27.823</td>\n",
       "      <td>YES</td>\n",
       "      <td>963103842398</td>\n",
       "      <td>116</td>\n",
       "      <td>16185</td>\n",
       "      <td>2300</td>\n",
       "      <td>310260</td>\n",
       "      <td>19</td>\n",
       "      <td>-106</td>\n",
       "      <td>-10</td>\n",
       "      <td>UNKNOWN</td>\n",
       "      <td>116.0</td>\n",
       "      <td>0</td>\n",
       "      <td>15</td>\n",
       "      <td>-114</td>\n",
       "      <td>-15</td>\n",
       "      <td>4</td>\n",
       "      <td>8</td>\n",
       "      <td>5</td>\n",
       "    </tr>\n",
       "    <tr>\n",
       "      <th>1</th>\n",
       "      <td>11-06 17:05:29.918</td>\n",
       "      <td>YES</td>\n",
       "      <td>965204574639</td>\n",
       "      <td>116</td>\n",
       "      <td>16185</td>\n",
       "      <td>2300</td>\n",
       "      <td>310260</td>\n",
       "      <td>21</td>\n",
       "      <td>-102</td>\n",
       "      <td>-9</td>\n",
       "      <td>UNKNOWN</td>\n",
       "      <td>116.0</td>\n",
       "      <td>0</td>\n",
       "      <td>14</td>\n",
       "      <td>-113</td>\n",
       "      <td>-14</td>\n",
       "      <td>7</td>\n",
       "      <td>11</td>\n",
       "      <td>5</td>\n",
       "    </tr>\n",
       "    <tr>\n",
       "      <th>2</th>\n",
       "      <td>11-06 17:05:32.381</td>\n",
       "      <td>YES</td>\n",
       "      <td>967695762231</td>\n",
       "      <td>116</td>\n",
       "      <td>16185</td>\n",
       "      <td>2300</td>\n",
       "      <td>310260</td>\n",
       "      <td>22</td>\n",
       "      <td>-106</td>\n",
       "      <td>-12</td>\n",
       "      <td>UNKNOWN</td>\n",
       "      <td>116.0</td>\n",
       "      <td>0</td>\n",
       "      <td>14</td>\n",
       "      <td>-115</td>\n",
       "      <td>-18</td>\n",
       "      <td>8</td>\n",
       "      <td>9</td>\n",
       "      <td>6</td>\n",
       "    </tr>\n",
       "    <tr>\n",
       "      <th>3</th>\n",
       "      <td>11-06 17:05:34.873</td>\n",
       "      <td>YES</td>\n",
       "      <td>970146334089</td>\n",
       "      <td>116</td>\n",
       "      <td>16185</td>\n",
       "      <td>2300</td>\n",
       "      <td>310260</td>\n",
       "      <td>22</td>\n",
       "      <td>-103</td>\n",
       "      <td>-12</td>\n",
       "      <td>UNKNOWN</td>\n",
       "      <td>116.0</td>\n",
       "      <td>0</td>\n",
       "      <td>16</td>\n",
       "      <td>-111</td>\n",
       "      <td>-19</td>\n",
       "      <td>6</td>\n",
       "      <td>8</td>\n",
       "      <td>7</td>\n",
       "    </tr>\n",
       "    <tr>\n",
       "      <th>4</th>\n",
       "      <td>11-06 17:05:36.886</td>\n",
       "      <td>YES</td>\n",
       "      <td>972200049242</td>\n",
       "      <td>116</td>\n",
       "      <td>16185</td>\n",
       "      <td>2300</td>\n",
       "      <td>310260</td>\n",
       "      <td>20</td>\n",
       "      <td>-103</td>\n",
       "      <td>-10</td>\n",
       "      <td>UNKNOWN</td>\n",
       "      <td>116.0</td>\n",
       "      <td>0</td>\n",
       "      <td>15</td>\n",
       "      <td>-113</td>\n",
       "      <td>-18</td>\n",
       "      <td>5</td>\n",
       "      <td>10</td>\n",
       "      <td>8</td>\n",
       "    </tr>\n",
       "    <tr>\n",
       "      <th>...</th>\n",
       "      <td>...</td>\n",
       "      <td>...</td>\n",
       "      <td>...</td>\n",
       "      <td>...</td>\n",
       "      <td>...</td>\n",
       "      <td>...</td>\n",
       "      <td>...</td>\n",
       "      <td>...</td>\n",
       "      <td>...</td>\n",
       "      <td>...</td>\n",
       "      <td>...</td>\n",
       "      <td>...</td>\n",
       "      <td>...</td>\n",
       "      <td>...</td>\n",
       "      <td>...</td>\n",
       "      <td>...</td>\n",
       "      <td>...</td>\n",
       "      <td>...</td>\n",
       "      <td>...</td>\n",
       "    </tr>\n",
       "    <tr>\n",
       "      <th>6556</th>\n",
       "      <td>11-22 15:53:07.812</td>\n",
       "      <td>YES</td>\n",
       "      <td>175929613562557</td>\n",
       "      <td>406</td>\n",
       "      <td>34624</td>\n",
       "      <td>850</td>\n",
       "      <td>310410</td>\n",
       "      <td>22</td>\n",
       "      <td>-100</td>\n",
       "      <td>-10</td>\n",
       "      <td>NOVALUE</td>\n",
       "      <td>406.0</td>\n",
       "      <td>0</td>\n",
       "      <td>24</td>\n",
       "      <td>-91</td>\n",
       "      <td>-12</td>\n",
       "      <td>-2</td>\n",
       "      <td>-9</td>\n",
       "      <td>2</td>\n",
       "    </tr>\n",
       "    <tr>\n",
       "      <th>6557</th>\n",
       "      <td>11-22 15:53:09.820</td>\n",
       "      <td>YES</td>\n",
       "      <td>175931744074331</td>\n",
       "      <td>406</td>\n",
       "      <td>34624</td>\n",
       "      <td>850</td>\n",
       "      <td>310410</td>\n",
       "      <td>21</td>\n",
       "      <td>-104</td>\n",
       "      <td>-12</td>\n",
       "      <td>NOVALUE</td>\n",
       "      <td>406.0</td>\n",
       "      <td>0</td>\n",
       "      <td>24</td>\n",
       "      <td>-91</td>\n",
       "      <td>-14</td>\n",
       "      <td>-3</td>\n",
       "      <td>-13</td>\n",
       "      <td>2</td>\n",
       "    </tr>\n",
       "    <tr>\n",
       "      <th>6558</th>\n",
       "      <td>11-22 15:53:09.832</td>\n",
       "      <td>YES</td>\n",
       "      <td>175931754969176</td>\n",
       "      <td>406</td>\n",
       "      <td>34624</td>\n",
       "      <td>850</td>\n",
       "      <td>310410</td>\n",
       "      <td>16</td>\n",
       "      <td>-111</td>\n",
       "      <td>-9</td>\n",
       "      <td>NOVALUE</td>\n",
       "      <td>406.0</td>\n",
       "      <td>0</td>\n",
       "      <td>24</td>\n",
       "      <td>-91</td>\n",
       "      <td>-14</td>\n",
       "      <td>-8</td>\n",
       "      <td>-20</td>\n",
       "      <td>5</td>\n",
       "    </tr>\n",
       "    <tr>\n",
       "      <th>6559</th>\n",
       "      <td>11-22 15:53:11.845</td>\n",
       "      <td>YES</td>\n",
       "      <td>175933765398127</td>\n",
       "      <td>406</td>\n",
       "      <td>34624</td>\n",
       "      <td>850</td>\n",
       "      <td>310410</td>\n",
       "      <td>17</td>\n",
       "      <td>-113</td>\n",
       "      <td>-13</td>\n",
       "      <td>NOVALUE</td>\n",
       "      <td>406.0</td>\n",
       "      <td>0</td>\n",
       "      <td>24</td>\n",
       "      <td>-91</td>\n",
       "      <td>-14</td>\n",
       "      <td>-7</td>\n",
       "      <td>-22</td>\n",
       "      <td>1</td>\n",
       "    </tr>\n",
       "    <tr>\n",
       "      <th>6560</th>\n",
       "      <td>11-22 15:53:14.342</td>\n",
       "      <td>YES</td>\n",
       "      <td>175936246378790</td>\n",
       "      <td>406</td>\n",
       "      <td>34624</td>\n",
       "      <td>850</td>\n",
       "      <td>310410</td>\n",
       "      <td>21</td>\n",
       "      <td>-106</td>\n",
       "      <td>-12</td>\n",
       "      <td>NOVALUE</td>\n",
       "      <td>406.0</td>\n",
       "      <td>0</td>\n",
       "      <td>24</td>\n",
       "      <td>-91</td>\n",
       "      <td>-14</td>\n",
       "      <td>-3</td>\n",
       "      <td>-15</td>\n",
       "      <td>2</td>\n",
       "    </tr>\n",
       "  </tbody>\n",
       "</table>\n",
       "<p>6561 rows × 19 columns</p>\n",
       "</div>"
      ],
      "text/plain": [
       "                    time mRegistered       mTimeStamp  mPci   mTac  mEarfcn  \\\n",
       "0     11-06 17:05:27.823         YES     963103842398   116  16185     2300   \n",
       "1     11-06 17:05:29.918         YES     965204574639   116  16185     2300   \n",
       "2     11-06 17:05:32.381         YES     967695762231   116  16185     2300   \n",
       "3     11-06 17:05:34.873         YES     970146334089   116  16185     2300   \n",
       "4     11-06 17:05:36.886         YES     972200049242   116  16185     2300   \n",
       "...                  ...         ...              ...   ...    ...      ...   \n",
       "6556  11-22 15:53:07.812         YES  175929613562557   406  34624      850   \n",
       "6557  11-22 15:53:09.820         YES  175931744074331   406  34624      850   \n",
       "6558  11-22 15:53:09.832         YES  175931754969176   406  34624      850   \n",
       "6559  11-22 15:53:11.845         YES  175933765398127   406  34624      850   \n",
       "6560  11-22 15:53:14.342         YES  175936246378790   406  34624      850   \n",
       "\n",
       "     mMcc+mMnc  ss  rsrp  rsrq activity  nextAP  handoverOccured  max_ss  \\\n",
       "0       310260  19  -106   -10  UNKNOWN   116.0                0      15   \n",
       "1       310260  21  -102    -9  UNKNOWN   116.0                0      14   \n",
       "2       310260  22  -106   -12  UNKNOWN   116.0                0      14   \n",
       "3       310260  22  -103   -12  UNKNOWN   116.0                0      16   \n",
       "4       310260  20  -103   -10  UNKNOWN   116.0                0      15   \n",
       "...        ...  ..   ...   ...      ...     ...              ...     ...   \n",
       "6556    310410  22  -100   -10  NOVALUE   406.0                0      24   \n",
       "6557    310410  21  -104   -12  NOVALUE   406.0                0      24   \n",
       "6558    310410  16  -111    -9  NOVALUE   406.0                0      24   \n",
       "6559    310410  17  -113   -13  NOVALUE   406.0                0      24   \n",
       "6560    310410  21  -106   -12  NOVALUE   406.0                0      24   \n",
       "\n",
       "      max_rsrp  max_rsrq  diff_in_ss  diff_in_rsrp  diff_in_rsrq  \n",
       "0         -114       -15           4             8             5  \n",
       "1         -113       -14           7            11             5  \n",
       "2         -115       -18           8             9             6  \n",
       "3         -111       -19           6             8             7  \n",
       "4         -113       -18           5            10             8  \n",
       "...        ...       ...         ...           ...           ...  \n",
       "6556       -91       -12          -2            -9             2  \n",
       "6557       -91       -14          -3           -13             2  \n",
       "6558       -91       -14          -8           -20             5  \n",
       "6559       -91       -14          -7           -22             1  \n",
       "6560       -91       -14          -3           -15             2  \n",
       "\n",
       "[6561 rows x 19 columns]"
      ]
     },
     "execution_count": 19,
     "metadata": {},
     "output_type": "execute_result"
    }
   ],
   "source": [
    "import pandas as pd\n",
    "import numpy as np\n",
    "\n",
    "df3 = pd.read_csv(\"./datasets/merged03.txt\")\n",
    "df5 = pd.read_csv(\"./datasets/merged05.txt\")\n",
    "df6 = pd.read_csv(\"./datasets/merged06.txt\")\n",
    "df7 = pd.read_csv(\"./datasets/merged07.txt\")\n",
    "df8 = pd.read_csv(\"./datasets/merged08.txt\")\n",
    "df9 = pd.read_csv(\"./datasets/merged09.txt\")\n",
    "df10 = pd.read_csv(\"./datasets/merged10.txt\")\n",
    "df_all = pd.concat([df3,df5,df6,df7,df8,df9,df10]).reset_index(drop=True)\n",
    "df_all"
   ]
  },
  {
   "cell_type": "code",
   "execution_count": 20,
   "metadata": {},
   "outputs": [],
   "source": [
    "# Remove datapoints with missing activity data\n",
    "df_all = df_all[df_all['activity'] != \"NOVALUE\"]"
   ]
  },
  {
   "cell_type": "code",
   "execution_count": 21,
   "metadata": {},
   "outputs": [
    {
     "data": {
      "text/plain": [
       "WALKING    1860\n",
       "UNKNOWN    1823\n",
       "STILL      1816\n",
       "Name: activity, dtype: int64"
      ]
     },
     "execution_count": 21,
     "metadata": {},
     "output_type": "execute_result"
    }
   ],
   "source": [
    "df_all['activity'].value_counts()"
   ]
  },
  {
   "cell_type": "code",
   "execution_count": 22,
   "metadata": {},
   "outputs": [
    {
     "name": "stderr",
     "output_type": "stream",
     "text": [
      "<ipython-input-22-ee39a6017fe7>:1: SettingWithCopyWarning: \n",
      "A value is trying to be set on a copy of a slice from a DataFrame.\n",
      "Try using .loc[row_indexer,col_indexer] = value instead\n",
      "\n",
      "See the caveats in the documentation: https://pandas.pydata.org/pandas-docs/stable/user_guide/indexing.html#returning-a-view-versus-a-copy\n",
      "  df_all['activity_walking'] = 0\n",
      "<ipython-input-22-ee39a6017fe7>:2: SettingWithCopyWarning: \n",
      "A value is trying to be set on a copy of a slice from a DataFrame.\n",
      "Try using .loc[row_indexer,col_indexer] = value instead\n",
      "\n",
      "See the caveats in the documentation: https://pandas.pydata.org/pandas-docs/stable/user_guide/indexing.html#returning-a-view-versus-a-copy\n",
      "  df_all[\"activity_unknown\"] = 0\n",
      "<ipython-input-22-ee39a6017fe7>:3: SettingWithCopyWarning: \n",
      "A value is trying to be set on a copy of a slice from a DataFrame.\n",
      "Try using .loc[row_indexer,col_indexer] = value instead\n",
      "\n",
      "See the caveats in the documentation: https://pandas.pydata.org/pandas-docs/stable/user_guide/indexing.html#returning-a-view-versus-a-copy\n",
      "  df_all['activity_still'] = 0\n",
      "/Users/albertstanley/miniconda3/envs/ML/lib/python3.9/site-packages/pandas/core/indexing.py:1720: SettingWithCopyWarning: \n",
      "A value is trying to be set on a copy of a slice from a DataFrame.\n",
      "Try using .loc[row_indexer,col_indexer] = value instead\n",
      "\n",
      "See the caveats in the documentation: https://pandas.pydata.org/pandas-docs/stable/user_guide/indexing.html#returning-a-view-versus-a-copy\n",
      "  self._setitem_single_column(loc, value, pi)\n"
     ]
    }
   ],
   "source": [
    "df_all['activity_walking'] = 0\n",
    "df_all[\"activity_unknown\"] = 0\n",
    "df_all['activity_still'] = 0\n",
    "#df_all['activity_novalue'] = 0\n",
    "df_all.loc[df_all['activity'] == \"WALKING\", 'activity_walking'] = 1\n",
    "df_all.loc[df_all['activity'] == \"UNKNOWN\", 'activity_unknown'] = 1\n",
    "df_all.loc[df_all['activity'] == \"STILL\", 'activity_still'] = 1\n",
    "#df_all.loc[df_all['activity'] == \"NOVALUE\", 'activity_novalue'] = 1"
   ]
  },
  {
   "cell_type": "code",
   "execution_count": 23,
   "metadata": {},
   "outputs": [
    {
     "data": {
      "text/plain": [
       "0    5281\n",
       "1     218\n",
       "Name: handoverOccured, dtype: int64"
      ]
     },
     "execution_count": 23,
     "metadata": {},
     "output_type": "execute_result"
    }
   ],
   "source": [
    "df_all['handoverOccured'].value_counts()"
   ]
  },
  {
   "cell_type": "markdown",
   "metadata": {},
   "source": [
    "# Balance Dataset"
   ]
  },
  {
   "cell_type": "code",
   "execution_count": 25,
   "metadata": {},
   "outputs": [],
   "source": [
    "pos_df_all = df_all[df_all['handoverOccured'] == 1]\n",
    "neg_df_all = df_all[df_all['handoverOccured'] == 0]"
   ]
  },
  {
   "cell_type": "code",
   "execution_count": 26,
   "metadata": {},
   "outputs": [
    {
     "data": {
      "text/html": [
       "<div>\n",
       "<style scoped>\n",
       "    .dataframe tbody tr th:only-of-type {\n",
       "        vertical-align: middle;\n",
       "    }\n",
       "\n",
       "    .dataframe tbody tr th {\n",
       "        vertical-align: top;\n",
       "    }\n",
       "\n",
       "    .dataframe thead th {\n",
       "        text-align: right;\n",
       "    }\n",
       "</style>\n",
       "<table border=\"1\" class=\"dataframe\">\n",
       "  <thead>\n",
       "    <tr style=\"text-align: right;\">\n",
       "      <th></th>\n",
       "      <th>time</th>\n",
       "      <th>mRegistered</th>\n",
       "      <th>mTimeStamp</th>\n",
       "      <th>mPci</th>\n",
       "      <th>mTac</th>\n",
       "      <th>mEarfcn</th>\n",
       "      <th>mMcc+mMnc</th>\n",
       "      <th>ss</th>\n",
       "      <th>rsrp</th>\n",
       "      <th>rsrq</th>\n",
       "      <th>...</th>\n",
       "      <th>handoverOccured</th>\n",
       "      <th>max_ss</th>\n",
       "      <th>max_rsrp</th>\n",
       "      <th>max_rsrq</th>\n",
       "      <th>diff_in_ss</th>\n",
       "      <th>diff_in_rsrp</th>\n",
       "      <th>diff_in_rsrq</th>\n",
       "      <th>activity_walking</th>\n",
       "      <th>activity_unknown</th>\n",
       "      <th>activity_still</th>\n",
       "    </tr>\n",
       "  </thead>\n",
       "  <tbody>\n",
       "    <tr>\n",
       "      <th>142</th>\n",
       "      <td>11-06 17:13:06.968</td>\n",
       "      <td>YES</td>\n",
       "      <td>1366721945471</td>\n",
       "      <td>116</td>\n",
       "      <td>16185</td>\n",
       "      <td>2300</td>\n",
       "      <td>310260</td>\n",
       "      <td>20</td>\n",
       "      <td>-110</td>\n",
       "      <td>-17</td>\n",
       "      <td>...</td>\n",
       "      <td>1</td>\n",
       "      <td>12</td>\n",
       "      <td>-113</td>\n",
       "      <td>-14</td>\n",
       "      <td>8</td>\n",
       "      <td>3</td>\n",
       "      <td>-3</td>\n",
       "      <td>1</td>\n",
       "      <td>0</td>\n",
       "      <td>0</td>\n",
       "    </tr>\n",
       "    <tr>\n",
       "      <th>154</th>\n",
       "      <td>11-06 17:14:04.621</td>\n",
       "      <td>YES</td>\n",
       "      <td>1386078954743</td>\n",
       "      <td>99</td>\n",
       "      <td>16185</td>\n",
       "      <td>2300</td>\n",
       "      <td>310260</td>\n",
       "      <td>19</td>\n",
       "      <td>-113</td>\n",
       "      <td>-18</td>\n",
       "      <td>...</td>\n",
       "      <td>1</td>\n",
       "      <td>15</td>\n",
       "      <td>-107</td>\n",
       "      <td>-14</td>\n",
       "      <td>4</td>\n",
       "      <td>-6</td>\n",
       "      <td>-4</td>\n",
       "      <td>1</td>\n",
       "      <td>0</td>\n",
       "      <td>0</td>\n",
       "    </tr>\n",
       "    <tr>\n",
       "      <th>261</th>\n",
       "      <td>11-06 17:21:06.485</td>\n",
       "      <td>YES</td>\n",
       "      <td>1553086144661</td>\n",
       "      <td>44</td>\n",
       "      <td>16185</td>\n",
       "      <td>675</td>\n",
       "      <td>310260</td>\n",
       "      <td>31</td>\n",
       "      <td>-81</td>\n",
       "      <td>-20</td>\n",
       "      <td>...</td>\n",
       "      <td>1</td>\n",
       "      <td>31</td>\n",
       "      <td>-76</td>\n",
       "      <td>-9</td>\n",
       "      <td>0</td>\n",
       "      <td>-5</td>\n",
       "      <td>-11</td>\n",
       "      <td>1</td>\n",
       "      <td>0</td>\n",
       "      <td>0</td>\n",
       "    </tr>\n",
       "    <tr>\n",
       "      <th>296</th>\n",
       "      <td>11-06 17:22:58.934</td>\n",
       "      <td>YES</td>\n",
       "      <td>1623956480315</td>\n",
       "      <td>434</td>\n",
       "      <td>16185</td>\n",
       "      <td>2300</td>\n",
       "      <td>310260</td>\n",
       "      <td>31</td>\n",
       "      <td>-86</td>\n",
       "      <td>-19</td>\n",
       "      <td>...</td>\n",
       "      <td>1</td>\n",
       "      <td>31</td>\n",
       "      <td>-74</td>\n",
       "      <td>-8</td>\n",
       "      <td>0</td>\n",
       "      <td>-12</td>\n",
       "      <td>-11</td>\n",
       "      <td>0</td>\n",
       "      <td>1</td>\n",
       "      <td>0</td>\n",
       "    </tr>\n",
       "    <tr>\n",
       "      <th>320</th>\n",
       "      <td>11-06 17:24:03.438</td>\n",
       "      <td>YES</td>\n",
       "      <td>1676989424036</td>\n",
       "      <td>328</td>\n",
       "      <td>16185</td>\n",
       "      <td>2300</td>\n",
       "      <td>310260</td>\n",
       "      <td>27</td>\n",
       "      <td>-100</td>\n",
       "      <td>-19</td>\n",
       "      <td>...</td>\n",
       "      <td>1</td>\n",
       "      <td>31</td>\n",
       "      <td>-73</td>\n",
       "      <td>-14</td>\n",
       "      <td>-4</td>\n",
       "      <td>-27</td>\n",
       "      <td>-5</td>\n",
       "      <td>0</td>\n",
       "      <td>1</td>\n",
       "      <td>0</td>\n",
       "    </tr>\n",
       "    <tr>\n",
       "      <th>...</th>\n",
       "      <td>...</td>\n",
       "      <td>...</td>\n",
       "      <td>...</td>\n",
       "      <td>...</td>\n",
       "      <td>...</td>\n",
       "      <td>...</td>\n",
       "      <td>...</td>\n",
       "      <td>...</td>\n",
       "      <td>...</td>\n",
       "      <td>...</td>\n",
       "      <td>...</td>\n",
       "      <td>...</td>\n",
       "      <td>...</td>\n",
       "      <td>...</td>\n",
       "      <td>...</td>\n",
       "      <td>...</td>\n",
       "      <td>...</td>\n",
       "      <td>...</td>\n",
       "      <td>...</td>\n",
       "      <td>...</td>\n",
       "      <td>...</td>\n",
       "    </tr>\n",
       "    <tr>\n",
       "      <th>1137</th>\n",
       "      <td>11-07 17:31:53.648</td>\n",
       "      <td>YES</td>\n",
       "      <td>23576819594788</td>\n",
       "      <td>473</td>\n",
       "      <td>16169</td>\n",
       "      <td>675</td>\n",
       "      <td>310260</td>\n",
       "      <td>25</td>\n",
       "      <td>-92</td>\n",
       "      <td>-9</td>\n",
       "      <td>...</td>\n",
       "      <td>0</td>\n",
       "      <td>20</td>\n",
       "      <td>-98</td>\n",
       "      <td>-15</td>\n",
       "      <td>5</td>\n",
       "      <td>6</td>\n",
       "      <td>6</td>\n",
       "      <td>0</td>\n",
       "      <td>0</td>\n",
       "      <td>1</td>\n",
       "    </tr>\n",
       "    <tr>\n",
       "      <th>2282</th>\n",
       "      <td>11-07 19:09:55.174</td>\n",
       "      <td>YES</td>\n",
       "      <td>25082575931092</td>\n",
       "      <td>456</td>\n",
       "      <td>34635</td>\n",
       "      <td>850</td>\n",
       "      <td>310410</td>\n",
       "      <td>29</td>\n",
       "      <td>-80</td>\n",
       "      <td>-3</td>\n",
       "      <td>...</td>\n",
       "      <td>0</td>\n",
       "      <td>19</td>\n",
       "      <td>-94</td>\n",
       "      <td>-10</td>\n",
       "      <td>10</td>\n",
       "      <td>14</td>\n",
       "      <td>7</td>\n",
       "      <td>0</td>\n",
       "      <td>0</td>\n",
       "      <td>1</td>\n",
       "    </tr>\n",
       "    <tr>\n",
       "      <th>1074</th>\n",
       "      <td>11-07 17:27:28.625</td>\n",
       "      <td>YES</td>\n",
       "      <td>23492170404844</td>\n",
       "      <td>473</td>\n",
       "      <td>16169</td>\n",
       "      <td>675</td>\n",
       "      <td>310260</td>\n",
       "      <td>18</td>\n",
       "      <td>-105</td>\n",
       "      <td>-9</td>\n",
       "      <td>...</td>\n",
       "      <td>0</td>\n",
       "      <td>13</td>\n",
       "      <td>-116</td>\n",
       "      <td>-17</td>\n",
       "      <td>5</td>\n",
       "      <td>11</td>\n",
       "      <td>8</td>\n",
       "      <td>0</td>\n",
       "      <td>0</td>\n",
       "      <td>1</td>\n",
       "    </tr>\n",
       "    <tr>\n",
       "      <th>2001</th>\n",
       "      <td>11-07 18:51:53.758</td>\n",
       "      <td>YES</td>\n",
       "      <td>24527816524161</td>\n",
       "      <td>322</td>\n",
       "      <td>16169</td>\n",
       "      <td>2300</td>\n",
       "      <td>310260</td>\n",
       "      <td>29</td>\n",
       "      <td>-88</td>\n",
       "      <td>-12</td>\n",
       "      <td>...</td>\n",
       "      <td>0</td>\n",
       "      <td>24</td>\n",
       "      <td>-87</td>\n",
       "      <td>-8</td>\n",
       "      <td>5</td>\n",
       "      <td>-1</td>\n",
       "      <td>-4</td>\n",
       "      <td>0</td>\n",
       "      <td>0</td>\n",
       "      <td>1</td>\n",
       "    </tr>\n",
       "    <tr>\n",
       "      <th>2145</th>\n",
       "      <td>11-07 19:02:22.218</td>\n",
       "      <td>YES</td>\n",
       "      <td>24737210771636</td>\n",
       "      <td>311</td>\n",
       "      <td>16175</td>\n",
       "      <td>2300</td>\n",
       "      <td>310260</td>\n",
       "      <td>20</td>\n",
       "      <td>-105</td>\n",
       "      <td>-10</td>\n",
       "      <td>...</td>\n",
       "      <td>0</td>\n",
       "      <td>13</td>\n",
       "      <td>-118</td>\n",
       "      <td>-18</td>\n",
       "      <td>7</td>\n",
       "      <td>13</td>\n",
       "      <td>8</td>\n",
       "      <td>0</td>\n",
       "      <td>1</td>\n",
       "      <td>0</td>\n",
       "    </tr>\n",
       "  </tbody>\n",
       "</table>\n",
       "<p>436 rows × 22 columns</p>\n",
       "</div>"
      ],
      "text/plain": [
       "                    time mRegistered      mTimeStamp  mPci   mTac  mEarfcn  \\\n",
       "142   11-06 17:13:06.968         YES   1366721945471   116  16185     2300   \n",
       "154   11-06 17:14:04.621         YES   1386078954743    99  16185     2300   \n",
       "261   11-06 17:21:06.485         YES   1553086144661    44  16185      675   \n",
       "296   11-06 17:22:58.934         YES   1623956480315   434  16185     2300   \n",
       "320   11-06 17:24:03.438         YES   1676989424036   328  16185     2300   \n",
       "...                  ...         ...             ...   ...    ...      ...   \n",
       "1137  11-07 17:31:53.648         YES  23576819594788   473  16169      675   \n",
       "2282  11-07 19:09:55.174         YES  25082575931092   456  34635      850   \n",
       "1074  11-07 17:27:28.625         YES  23492170404844   473  16169      675   \n",
       "2001  11-07 18:51:53.758         YES  24527816524161   322  16169     2300   \n",
       "2145  11-07 19:02:22.218         YES  24737210771636   311  16175     2300   \n",
       "\n",
       "     mMcc+mMnc  ss  rsrp  rsrq  ... handoverOccured  max_ss  max_rsrp  \\\n",
       "142     310260  20  -110   -17  ...               1      12      -113   \n",
       "154     310260  19  -113   -18  ...               1      15      -107   \n",
       "261     310260  31   -81   -20  ...               1      31       -76   \n",
       "296     310260  31   -86   -19  ...               1      31       -74   \n",
       "320     310260  27  -100   -19  ...               1      31       -73   \n",
       "...        ...  ..   ...   ...  ...             ...     ...       ...   \n",
       "1137    310260  25   -92    -9  ...               0      20       -98   \n",
       "2282    310410  29   -80    -3  ...               0      19       -94   \n",
       "1074    310260  18  -105    -9  ...               0      13      -116   \n",
       "2001    310260  29   -88   -12  ...               0      24       -87   \n",
       "2145    310260  20  -105   -10  ...               0      13      -118   \n",
       "\n",
       "      max_rsrq  diff_in_ss  diff_in_rsrp  diff_in_rsrq  activity_walking  \\\n",
       "142        -14           8             3            -3                 1   \n",
       "154        -14           4            -6            -4                 1   \n",
       "261         -9           0            -5           -11                 1   \n",
       "296         -8           0           -12           -11                 0   \n",
       "320        -14          -4           -27            -5                 0   \n",
       "...        ...         ...           ...           ...               ...   \n",
       "1137       -15           5             6             6                 0   \n",
       "2282       -10          10            14             7                 0   \n",
       "1074       -17           5            11             8                 0   \n",
       "2001        -8           5            -1            -4                 0   \n",
       "2145       -18           7            13             8                 0   \n",
       "\n",
       "      activity_unknown  activity_still  \n",
       "142                  0               0  \n",
       "154                  0               0  \n",
       "261                  0               0  \n",
       "296                  1               0  \n",
       "320                  1               0  \n",
       "...                ...             ...  \n",
       "1137                 0               1  \n",
       "2282                 0               1  \n",
       "1074                 0               1  \n",
       "2001                 0               1  \n",
       "2145                 1               0  \n",
       "\n",
       "[436 rows x 22 columns]"
      ]
     },
     "execution_count": 26,
     "metadata": {},
     "output_type": "execute_result"
    }
   ],
   "source": [
    "SAMPLES_PER_CLASS = len(pos_df_all)\n",
    "neg_samples = neg_df_all.sample(SAMPLES_PER_CLASS)\n",
    "resampled_df = pd.concat([pos_df_all, neg_samples])\n",
    "resampled_df"
   ]
  },
  {
   "cell_type": "markdown",
   "metadata": {},
   "source": [
    "# Create Train and Test Data"
   ]
  },
  {
   "cell_type": "markdown",
   "metadata": {},
   "source": [
    "# Train NN"
   ]
  },
  {
   "cell_type": "code",
   "execution_count": 61,
   "metadata": {},
   "outputs": [],
   "source": [
    "import tensorflow as tf\n",
    "from tensorflow import keras\n",
    "from tensorflow.keras import layers\n",
    "from sklearn.model_selection import train_test_split\n",
    "def get_metrics_on_nn_with_features_removed(features_to_remove):\n",
    "    features_of_interest = [\"ss\", \"rsrq\", \"rsrp\", \"max_ss\", \"max_rsrp\", \"max_rsrq\", \"diff_in_ss\", \"diff_in_rsrq\", \"diff_in_rsrp\", \"activity_walking\", \"activity_unknown\", \"activity_still\"]\n",
    "    for feature in features_to_remove:\n",
    "        features_of_interest.remove(feature)\n",
    "    X = resampled_df[features_of_interest].values\n",
    "    y = resampled_df['handoverOccured'].values\n",
    "\n",
    "    X_train, X_test, y_train, y_test = train_test_split(X, y, \n",
    "                    test_size=0.33, random_state=42, stratify=y)\n",
    "\n",
    "    model = keras.Sequential(\n",
    "        [\n",
    "            layers.Dense(1000, activation=\"relu\", name=\"layer1\"),\n",
    "            layers.Dense(1000, activation=\"relu\", name=\"layer2\"),\n",
    "            layers.Dense(1000, activation=\"relu\", name=\"layer3\"),\n",
    "            layers.Dense(1000, activation=\"relu\", name=\"layer4\"),\n",
    "            layers.Dense(1, activation=\"sigmoid\", name=\"layer5\"),\n",
    "        ]\n",
    "    )\n",
    "    # Call model on a test input\n",
    "    y = model(X[0:2])\n",
    "\n",
    "    model.compile(\n",
    "        optimizer=keras.optimizers.RMSprop(\n",
    "            learning_rate=0.000001\n",
    "        ),  # Optimizer\n",
    "        # Loss function to minimize\n",
    "        loss=\"binary_crossentropy\",\n",
    "        metrics=[\"accuracy\"] # tf.keras.metrics.Recall(), tf.keras.metrics.Precision()\n",
    "    )\n",
    "\n",
    "    def scheduler(epoch,lr):\n",
    "        if epoch < 15: \n",
    "            return lr\n",
    "        else: \n",
    "            return lr * tf.math.exp(-0.1)\n",
    "\n",
    "    lr_callback = tf.keras.callbacks.LearningRateScheduler(scheduler)\n",
    "    callbacks = [lr_callback]\n",
    "\n",
    "    history = model.fit(\n",
    "        X_train,\n",
    "        y_train,\n",
    "        batch_size=5,\n",
    "        epochs=50,\n",
    "        callbacks=callbacks,\n",
    "        validation_data=(X_test, y_test),\n",
    "        verbose=0\n",
    "    )\n",
    "    best_loss = min(history.history['val_loss'])\n",
    "    best_accuracy = max(history.history['val_accuracy'])\n",
    "\n",
    "    return {\n",
    "        \"best_loss\": best_loss,\n",
    "        \"best_accuracy\": best_accuracy\n",
    "    }\n",
    "# Accuracy with all features\n",
    "performance_dict = {}\n",
    "performance_dict[\"base\"] = get_metrics_on_nn_with_features_removed([])\n",
    "performance_dict[\"base\"]"
   ]
  },
  {
   "cell_type": "code",
   "execution_count": 35,
   "metadata": {},
   "outputs": [
    {
     "data": {
      "text/plain": [
       "{'best_loss': 0.5937851071357727, 'best_accuracy': 0.8333333134651184}"
      ]
     },
     "execution_count": 35,
     "metadata": {},
     "output_type": "execute_result"
    }
   ],
   "source": [
    "performance_dict[\"only_registered_features\"] = get_metrics_on_nn_with_features_removed([\"max_ss\", \"max_rsrp\", \"max_rsrq\",\"diff_in_ss\", \"diff_in_rsrq\", \"diff_in_rsrp\"])\n",
    "performance_dict[\"only_registered_features\"]"
   ]
  },
  {
   "cell_type": "code",
   "execution_count": 38,
   "metadata": {},
   "outputs": [
    {
     "data": {
      "text/plain": [
       "{'best_loss': 0.550151526927948, 'best_accuracy': 0.7638888955116272}"
      ]
     },
     "execution_count": 38,
     "metadata": {},
     "output_type": "execute_result"
    }
   ],
   "source": [
    "activity_features = [\"activity_walking\", \"activity_unknown\", \"activity_still\"]\n",
    "performance_dict[\"no_activity_features\"] = get_metrics_on_nn_with_features_removed(activity_features)\n",
    "performance_dict[\"no_activity_features\"]"
   ]
  },
  {
   "cell_type": "code",
   "execution_count": 39,
   "metadata": {},
   "outputs": [
    {
     "data": {
      "text/plain": [
       "{'best_loss': 0.5609530210494995, 'best_accuracy': 0.7291666865348816}"
      ]
     },
     "execution_count": 39,
     "metadata": {},
     "output_type": "execute_result"
    }
   ],
   "source": [
    "basic_features = [\"ss\", \"rsrp\", 'rsrq']\n",
    "performance_dict[\"no_basic_features\"] = get_metrics_on_nn_with_features_removed(basic_features)\n",
    "performance_dict[\"no_basic_features\"]"
   ]
  },
  {
   "cell_type": "code",
   "execution_count": 40,
   "metadata": {},
   "outputs": [
    {
     "data": {
      "text/plain": [
       "{'best_loss': 0.5628868937492371, 'best_accuracy': 0.8333333134651184}"
      ]
     },
     "execution_count": 40,
     "metadata": {},
     "output_type": "execute_result"
    }
   ],
   "source": [
    "performance_dict['only_basic_features'] = get_metrics_on_nn_with_features_removed([\"max_ss\", \"max_rsrp\", \"max_rsrq\", \"diff_in_ss\", \"diff_in_rsrq\", \"diff_in_rsrp\", \"activity_walking\", \"activity_unknown\", \"activity_still\"])\n",
    "performance_dict['only_basic_features']"
   ]
  },
  {
   "cell_type": "code",
   "execution_count": 41,
   "metadata": {},
   "outputs": [
    {
     "data": {
      "text/plain": [
       "{'best_loss': 0.6765207052230835, 'best_accuracy': 0.5}"
      ]
     },
     "execution_count": 41,
     "metadata": {},
     "output_type": "execute_result"
    }
   ],
   "source": [
    "performance_dict['only_rsrq'] = get_metrics_on_nn_with_features_removed([\"ss\", \"rsrp\",\"max_ss\", \"max_rsrp\", \"max_rsrq\", \"diff_in_ss\", \"diff_in_rsrq\", \"diff_in_rsrp\", \"activity_walking\", \"activity_unknown\", \"activity_still\"])\n",
    "performance_dict['only_rsrq']"
   ]
  },
  {
   "cell_type": "code",
   "execution_count": 42,
   "metadata": {},
   "outputs": [
    {
     "data": {
      "text/plain": [
       "{'best_loss': 0.692344605922699, 'best_accuracy': 0.5972222089767456}"
      ]
     },
     "execution_count": 42,
     "metadata": {},
     "output_type": "execute_result"
    }
   ],
   "source": [
    "performance_dict['only_rsrp'] = get_metrics_on_nn_with_features_removed([\"ss\", \"rsrq\",\"max_ss\", \"max_rsrp\", \"max_rsrq\", \"diff_in_ss\", \"diff_in_rsrq\", \"diff_in_rsrp\", \"activity_walking\", \"activity_unknown\", \"activity_still\"])\n",
    "performance_dict['only_rsrp']"
   ]
  },
  {
   "cell_type": "code",
   "execution_count": 43,
   "metadata": {},
   "outputs": [
    {
     "data": {
      "text/plain": [
       "{'best_loss': 0.6929172277450562, 'best_accuracy': 0.5}"
      ]
     },
     "execution_count": 43,
     "metadata": {},
     "output_type": "execute_result"
    }
   ],
   "source": [
    "performance_dict['only_ss'] = get_metrics_on_nn_with_features_removed([\"rsrp\", \"rsrq\",\"max_ss\", \"max_rsrp\", \"max_rsrq\", \"diff_in_ss\", \"diff_in_rsrq\", \"diff_in_rsrp\", \"activity_walking\", \"activity_unknown\", \"activity_still\"])\n",
    "performance_dict['only_ss']"
   ]
  },
  {
   "cell_type": "code",
   "execution_count": 56,
   "metadata": {},
   "outputs": [
    {
     "name": "stdout",
     "output_type": "stream",
     "text": [
      "base {'best_loss': 0.5321290493011475, 'best_accuracy': 0.7708333134651184}\n",
      "no_activity_features {'best_loss': 0.550151526927948, 'best_accuracy': 0.7638888955116272}\n",
      "no_basic_features {'best_loss': 0.5609530210494995, 'best_accuracy': 0.7291666865348816}\n",
      "only_basic_features {'best_loss': 0.5628868937492371, 'best_accuracy': 0.8333333134651184}\n",
      "only_rsrq {'best_loss': 0.6765207052230835, 'best_accuracy': 0.5}\n",
      "only_rsrp {'best_loss': 0.692344605922699, 'best_accuracy': 0.5972222089767456}\n",
      "only_ss {'best_loss': 0.6929172277450562, 'best_accuracy': 0.5}\n"
     ]
    }
   ],
   "source": [
    "for key, v in performance_dict.items():\n",
    "    print(key,v)"
   ]
  },
  {
   "cell_type": "code",
   "execution_count": 47,
   "metadata": {},
   "outputs": [],
   "source": [
    "\n",
    "# features_of_interest = [\"ss\", \"rsrq\", \"rsrp\", \"max_ss\", \"max_rsrp\", \"max_rsrq\",\"diff_in_ss\", \"diff_in_rsrq\", \"diff_in_rsrp\", \"activity_walking\", \"activity_unknown\", \"activity_still\"]\n",
    "# performance_dict[\"base\"] = get_metrics_on_nn_with_features_removed([])\n",
    "# for feature in features_of_interest:\n",
    "#     performance_dict[f'no_{feature}'] = get_metrics_on_nn_with_features_removed([feature])"
   ]
  },
  {
   "cell_type": "code",
   "execution_count": 58,
   "metadata": {},
   "outputs": [
    {
     "data": {
      "text/plain": [
       "Text(0.5, 1.0, 'Change In Loss From Removing Feature')"
      ]
     },
     "execution_count": 58,
     "metadata": {},
     "output_type": "execute_result"
    },
    {
     "data": {
      "image/png": "[encoded data removed]",
      "text/plain": [
       "<Figure size 432x288 with 1 Axes>"
      ]
     },
     "metadata": {
      "needs_background": "light"
     },
     "output_type": "display_data"
    }
   ],
   "source": [
    "import matplotlib.pyplot as plt\n",
    "base = performance_dict['base'][\"best_loss\"]\n",
    "plt.barh(list(performance_dict.keys()),[val[\"best_loss\"] - base for key,val in performance_dict.items()])\n",
    "plt.title(\"Change In Loss From Removing Feature\")"
   ]
  },
  {
   "cell_type": "code",
   "execution_count": 59,
   "metadata": {},
   "outputs": [
    {
     "data": {
      "text/plain": [
       "Text(0.5, 1.0, 'Change In Accuracy From Removing Feature')"
      ]
     },
     "execution_count": 59,
     "metadata": {},
     "output_type": "execute_result"
    },
    {
     "data": {
      "image/png": "[encoded data removed]",
      "text/plain": [
       "<Figure size 432x288 with 1 Axes>"
      ]
     },
     "metadata": {
      "needs_background": "light"
     },
     "output_type": "display_data"
    }
   ],
   "source": [
    "import matplotlib.pyplot as plt\n",
    "base = performance_dict['base'][\"best_accuracy\"]\n",
    "plt.barh(list(performance_dict.keys()),[val[\"best_accuracy\"] - base for key,val in performance_dict.items()])\n",
    "plt.title(\"Change In Accuracy From Removing Feature\")"
   ]
  },
  {
   "cell_type": "code",
   "execution_count": 38,
   "metadata": {},
   "outputs": [
    {
     "data": {
      "text/plain": [
       "{'base': (0.5497999787330627, 0.754601240158081),\n",
       " 'no_ss': (0.5596362352371216, 0.7668711543083191),\n",
       " 'no_rsrq': (0.6068814992904663, 0.7423312664031982),\n",
       " 'no_rsrp': (0.5677207708358765, 0.7423312664031982),\n",
       " 'no_max_ss': (0.5638781785964966, 0.7484662532806396),\n",
       " 'no_max_rsrp': (0.5539535284042358, 0.754601240158081),\n",
       " 'no_max_rsrq': (0.5536408424377441, 0.7484662532806396),\n",
       " 'no_diff_in_ss': (0.5607701539993286, 0.7607361674308777),\n",
       " 'no_diff_in_rsrq': (0.6079888343811035, 0.7484662532806396),\n",
       " 'no_diff_in_rsrp': (0.5857520699501038, 0.754601240158081),\n",
       " 'no_activity_walking': (0.5577619075775146, 0.754601240158081),\n",
       " 'no_activity_unknown': (0.5504615902900696, 0.7730061411857605),\n",
       " 'no_activity_still': (0.5576903223991394, 0.7361963391304016),\n",
       " 'no_activity_novalue': (0.5644530057907104, 0.7300613522529602)}"
      ]
     },
     "execution_count": 38,
     "metadata": {},
     "output_type": "execute_result"
    }
   ],
   "source": [
    "performance_dict"
   ]
  },
  {
   "cell_type": "code",
   "execution_count": 39,
   "metadata": {},
   "outputs": [
    {
     "ename": "NameError",
     "evalue": "name 'X_train' is not defined",
     "output_type": "error",
     "traceback": [
      "\u001b[0;31m---------------------------------------------------------------------------\u001b[0m",
      "\u001b[0;31mNameError\u001b[0m                                 Traceback (most recent call last)",
      "\u001b[0;32m<ipython-input-39-c4f14c1ca634>\u001b[0m in \u001b[0;36m<module>\u001b[0;34m\u001b[0m\n\u001b[1;32m      3\u001b[0m \u001b[0;32mfrom\u001b[0m \u001b[0msklearn\u001b[0m\u001b[0;34m.\u001b[0m\u001b[0mpreprocessing\u001b[0m \u001b[0;32mimport\u001b[0m \u001b[0mMinMaxScaler\u001b[0m\u001b[0;34m\u001b[0m\u001b[0;34m\u001b[0m\u001b[0m\n\u001b[1;32m      4\u001b[0m \u001b[0mscaler\u001b[0m \u001b[0;34m=\u001b[0m \u001b[0mMinMaxScaler\u001b[0m\u001b[0;34m(\u001b[0m\u001b[0;34m)\u001b[0m\u001b[0;34m\u001b[0m\u001b[0;34m\u001b[0m\u001b[0m\n\u001b[0;32m----> 5\u001b[0;31m \u001b[0mscaler\u001b[0m\u001b[0;34m.\u001b[0m\u001b[0mfit\u001b[0m\u001b[0;34m(\u001b[0m\u001b[0mX_train\u001b[0m\u001b[0;34m)\u001b[0m\u001b[0;34m\u001b[0m\u001b[0;34m\u001b[0m\u001b[0m\n\u001b[0m\u001b[1;32m      6\u001b[0m \u001b[0mclf\u001b[0m \u001b[0;34m=\u001b[0m \u001b[0mLogisticRegression\u001b[0m\u001b[0;34m(\u001b[0m\u001b[0mrandom_state\u001b[0m\u001b[0;34m=\u001b[0m\u001b[0;36m0\u001b[0m\u001b[0;34m)\u001b[0m\u001b[0;34m.\u001b[0m\u001b[0mfit\u001b[0m\u001b[0;34m(\u001b[0m\u001b[0mscaler\u001b[0m\u001b[0;34m.\u001b[0m\u001b[0mtransform\u001b[0m\u001b[0;34m(\u001b[0m\u001b[0mX_train\u001b[0m\u001b[0;34m)\u001b[0m\u001b[0;34m,\u001b[0m \u001b[0my_train\u001b[0m\u001b[0;34m)\u001b[0m\u001b[0;34m\u001b[0m\u001b[0;34m\u001b[0m\u001b[0m\n\u001b[1;32m      7\u001b[0m \u001b[0my_train_pred\u001b[0m \u001b[0;34m=\u001b[0m \u001b[0mclf\u001b[0m\u001b[0;34m.\u001b[0m\u001b[0mpredict\u001b[0m\u001b[0;34m(\u001b[0m\u001b[0mscaler\u001b[0m\u001b[0;34m.\u001b[0m\u001b[0mtransform\u001b[0m\u001b[0;34m(\u001b[0m\u001b[0mX_train\u001b[0m\u001b[0;34m)\u001b[0m\u001b[0;34m)\u001b[0m\u001b[0;34m\u001b[0m\u001b[0;34m\u001b[0m\u001b[0m\n",
      "\u001b[0;31mNameError\u001b[0m: name 'X_train' is not defined"
     ]
    }
   ],
   "source": [
    "# Try Logistic Regression\n",
    "from sklearn.linear_model import LogisticRegression\n",
    "from sklearn.preprocessing import MinMaxScaler\n",
    "scaler = MinMaxScaler()\n",
    "scaler.fit(X_train)\n",
    "clf = LogisticRegression(random_state=0).fit(scaler.transform(X_train), y_train)\n",
    "y_train_pred = clf.predict(scaler.transform(X_train))\n",
    "y_test_pred = clf.predict(scaler.transform(X_test))\n",
    "train_acc = np.mean(y_train == y_train_pred)\n",
    "test_acc = np.mean(y_test_pred == y_test)\n",
    "train_acc, test_acc"
   ]
  },
  {
   "cell_type": "code",
   "execution_count": null,
   "metadata": {},
   "outputs": [
    {
     "data": {
      "text/plain": [
       "dict_keys(['loss', 'accuracy', 'val_loss', 'val_accuracy', 'lr'])"
      ]
     },
     "execution_count": 58,
     "metadata": {},
     "output_type": "execute_result"
    }
   ],
   "source": [
    "import matplotlib.pyplot as plt\n",
    "history.history.keys()"
   ]
  },
  {
   "cell_type": "code",
   "execution_count": null,
   "metadata": {},
   "outputs": [
    {
     "data": {
      "text/plain": [
       "[<matplotlib.lines.Line2D at 0x7fca03f1b9a0>]"
      ]
     },
     "execution_count": 59,
     "metadata": {},
     "output_type": "execute_result"
    },
    {
     "data": {
      "image/png": "[encoded data removed]",
      "text/plain": [
       "<Figure size 432x288 with 1 Axes>"
      ]
     },
     "metadata": {
      "needs_background": "light"
     },
     "output_type": "display_data"
    }
   ],
   "source": [
    "plt.plot(history.history['loss'])\n",
    "plt.plot(history.history['val_loss'])"
   ]
  },
  {
   "cell_type": "code",
   "execution_count": null,
   "metadata": {},
   "outputs": [
    {
     "data": {
      "text/plain": [
       "[<matplotlib.lines.Line2D at 0x7f9798dcd6a0>]"
      ]
     },
     "execution_count": 71,
     "metadata": {},
     "output_type": "execute_result"
    },
    {
     "data": {
      "image/png": "[encoded data removed]",
      "text/plain": [
       "<Figure size 432x288 with 1 Axes>"
      ]
     },
     "metadata": {
      "needs_background": "light"
     },
     "output_type": "display_data"
    }
   ],
   "source": [
    "plt.plot(history.history['accuracy'])\n",
    "plt.plot(history.history['val_accuracy'])"
   ]
  },
  {
   "cell_type": "code",
   "execution_count": 62,
   "metadata": {},
   "outputs": [
    {
     "name": "stdout",
     "output_type": "stream",
     "text": [
      "Epoch 1/50\n",
      "59/59 [==============================] - 2s 26ms/step - loss: 0.7218 - accuracy: 0.4795 - val_loss: 0.7097 - val_accuracy: 0.4236 - lr: 1.0000e-06\n",
      "Epoch 2/50\n",
      "59/59 [==============================] - 1s 22ms/step - loss: 0.6933 - accuracy: 0.4932 - val_loss: 0.6954 - val_accuracy: 0.4306 - lr: 1.0000e-06\n",
      "Epoch 3/50\n",
      "59/59 [==============================] - 1s 23ms/step - loss: 0.6825 - accuracy: 0.5616 - val_loss: 0.6789 - val_accuracy: 0.6667 - lr: 1.0000e-06\n",
      "Epoch 4/50\n",
      "59/59 [==============================] - 1s 22ms/step - loss: 0.6694 - accuracy: 0.6096 - val_loss: 0.6659 - val_accuracy: 0.5417 - lr: 1.0000e-06\n",
      "Epoch 5/50\n",
      "59/59 [==============================] - 1s 23ms/step - loss: 0.6623 - accuracy: 0.6370 - val_loss: 0.6553 - val_accuracy: 0.7708 - lr: 1.0000e-06\n",
      "Epoch 6/50\n",
      "59/59 [==============================] - 1s 23ms/step - loss: 0.6534 - accuracy: 0.6678 - val_loss: 0.6468 - val_accuracy: 0.7986 - lr: 1.0000e-06\n",
      "Epoch 7/50\n",
      "59/59 [==============================] - 1s 23ms/step - loss: 0.6458 - accuracy: 0.6986 - val_loss: 0.6402 - val_accuracy: 0.7847 - lr: 1.0000e-06\n",
      "Epoch 8/50\n",
      "59/59 [==============================] - 1s 23ms/step - loss: 0.6428 - accuracy: 0.7055 - val_loss: 0.6324 - val_accuracy: 0.8403 - lr: 1.0000e-06\n",
      "Epoch 9/50\n",
      "59/59 [==============================] - 1s 22ms/step - loss: 0.6372 - accuracy: 0.7055 - val_loss: 0.6267 - val_accuracy: 0.8125 - lr: 1.0000e-06\n",
      "Epoch 10/50\n",
      "59/59 [==============================] - 1s 23ms/step - loss: 0.6316 - accuracy: 0.7192 - val_loss: 0.6255 - val_accuracy: 0.7431 - lr: 1.0000e-06\n",
      "Epoch 11/50\n",
      "59/59 [==============================] - 1s 22ms/step - loss: 0.6258 - accuracy: 0.7055 - val_loss: 0.6182 - val_accuracy: 0.7708 - lr: 1.0000e-06\n",
      "Epoch 12/50\n",
      "59/59 [==============================] - 1s 23ms/step - loss: 0.6245 - accuracy: 0.7226 - val_loss: 0.6097 - val_accuracy: 0.8264 - lr: 1.0000e-06\n",
      "Epoch 13/50\n",
      "59/59 [==============================] - 1s 24ms/step - loss: 0.6169 - accuracy: 0.7363 - val_loss: 0.6222 - val_accuracy: 0.6319 - lr: 1.0000e-06\n",
      "Epoch 14/50\n",
      "59/59 [==============================] - 1s 24ms/step - loss: 0.6183 - accuracy: 0.7226 - val_loss: 0.6059 - val_accuracy: 0.7639 - lr: 1.0000e-06\n",
      "Epoch 15/50\n",
      "59/59 [==============================] - 1s 23ms/step - loss: 0.6131 - accuracy: 0.7260 - val_loss: 0.5990 - val_accuracy: 0.8194 - lr: 1.0000e-06\n",
      "Epoch 16/50\n",
      "59/59 [==============================] - 1s 23ms/step - loss: 0.6119 - accuracy: 0.7329 - val_loss: 0.5950 - val_accuracy: 0.8333 - lr: 9.0484e-07\n",
      "Epoch 17/50\n",
      "59/59 [==============================] - 1s 23ms/step - loss: 0.6101 - accuracy: 0.7500 - val_loss: 0.5925 - val_accuracy: 0.8125 - lr: 8.1873e-07\n",
      "Epoch 18/50\n",
      "59/59 [==============================] - 1s 24ms/step - loss: 0.6059 - accuracy: 0.7397 - val_loss: 0.5913 - val_accuracy: 0.7986 - lr: 7.4082e-07\n",
      "Epoch 19/50\n",
      "59/59 [==============================] - 1s 24ms/step - loss: 0.6046 - accuracy: 0.7432 - val_loss: 0.5879 - val_accuracy: 0.8333 - lr: 6.7032e-07\n",
      "Epoch 20/50\n",
      "59/59 [==============================] - 1s 24ms/step - loss: 0.6018 - accuracy: 0.7226 - val_loss: 0.5879 - val_accuracy: 0.8056 - lr: 6.0653e-07\n",
      "Epoch 21/50\n",
      "59/59 [==============================] - 1s 23ms/step - loss: 0.6024 - accuracy: 0.7500 - val_loss: 0.5847 - val_accuracy: 0.8264 - lr: 5.4881e-07\n",
      "Epoch 22/50\n",
      "59/59 [==============================] - 1s 23ms/step - loss: 0.5988 - accuracy: 0.7363 - val_loss: 0.5852 - val_accuracy: 0.7986 - lr: 4.9659e-07\n",
      "Epoch 23/50\n",
      "59/59 [==============================] - 1s 23ms/step - loss: 0.5995 - accuracy: 0.7500 - val_loss: 0.5821 - val_accuracy: 0.8264 - lr: 4.4933e-07\n",
      "Epoch 24/50\n",
      "59/59 [==============================] - 1s 23ms/step - loss: 0.5979 - accuracy: 0.7397 - val_loss: 0.5810 - val_accuracy: 0.8264 - lr: 4.0657e-07\n",
      "Epoch 25/50\n",
      "59/59 [==============================] - 1s 23ms/step - loss: 0.5970 - accuracy: 0.7397 - val_loss: 0.5801 - val_accuracy: 0.8333 - lr: 3.6788e-07\n",
      "Epoch 26/50\n",
      "59/59 [==============================] - 1s 23ms/step - loss: 0.5950 - accuracy: 0.7329 - val_loss: 0.5793 - val_accuracy: 0.7986 - lr: 3.3287e-07\n",
      "Epoch 27/50\n",
      "59/59 [==============================] - 1s 23ms/step - loss: 0.5955 - accuracy: 0.7671 - val_loss: 0.5781 - val_accuracy: 0.8264 - lr: 3.0119e-07\n",
      "Epoch 28/50\n",
      "59/59 [==============================] - 1s 23ms/step - loss: 0.5942 - accuracy: 0.7466 - val_loss: 0.5774 - val_accuracy: 0.8264 - lr: 2.7253e-07\n",
      "Epoch 29/50\n",
      "59/59 [==============================] - 1s 23ms/step - loss: 0.5934 - accuracy: 0.7432 - val_loss: 0.5769 - val_accuracy: 0.8125 - lr: 2.4660e-07\n",
      "Epoch 30/50\n",
      "59/59 [==============================] - 1s 24ms/step - loss: 0.5931 - accuracy: 0.7466 - val_loss: 0.5763 - val_accuracy: 0.8125 - lr: 2.2313e-07\n",
      "Epoch 31/50\n",
      "59/59 [==============================] - 1s 23ms/step - loss: 0.5924 - accuracy: 0.7432 - val_loss: 0.5755 - val_accuracy: 0.8264 - lr: 2.0190e-07\n",
      "Epoch 32/50\n",
      "59/59 [==============================] - 1s 23ms/step - loss: 0.5919 - accuracy: 0.7534 - val_loss: 0.5750 - val_accuracy: 0.8264 - lr: 1.8268e-07\n",
      "Epoch 33/50\n",
      "59/59 [==============================] - 1s 23ms/step - loss: 0.5915 - accuracy: 0.7466 - val_loss: 0.5746 - val_accuracy: 0.8264 - lr: 1.6530e-07\n",
      "Epoch 34/50\n",
      "59/59 [==============================] - 1s 23ms/step - loss: 0.5910 - accuracy: 0.7363 - val_loss: 0.5742 - val_accuracy: 0.8264 - lr: 1.4957e-07\n",
      "Epoch 35/50\n",
      "59/59 [==============================] - 1s 23ms/step - loss: 0.5908 - accuracy: 0.7432 - val_loss: 0.5739 - val_accuracy: 0.8264 - lr: 1.3534e-07\n",
      "Epoch 36/50\n",
      "59/59 [==============================] - 1s 23ms/step - loss: 0.5905 - accuracy: 0.7432 - val_loss: 0.5737 - val_accuracy: 0.8264 - lr: 1.2246e-07\n",
      "Epoch 37/50\n",
      "59/59 [==============================] - 1s 23ms/step - loss: 0.5901 - accuracy: 0.7534 - val_loss: 0.5734 - val_accuracy: 0.8264 - lr: 1.1080e-07\n",
      "Epoch 38/50\n",
      "59/59 [==============================] - 1s 23ms/step - loss: 0.5898 - accuracy: 0.7534 - val_loss: 0.5731 - val_accuracy: 0.8264 - lr: 1.0026e-07\n",
      "Epoch 39/50\n",
      "59/59 [==============================] - 1s 23ms/step - loss: 0.5896 - accuracy: 0.7466 - val_loss: 0.5729 - val_accuracy: 0.8264 - lr: 9.0718e-08\n",
      "Epoch 40/50\n",
      "59/59 [==============================] - 1s 23ms/step - loss: 0.5895 - accuracy: 0.7534 - val_loss: 0.5726 - val_accuracy: 0.8264 - lr: 8.2085e-08\n",
      "Epoch 41/50\n",
      "59/59 [==============================] - 1s 23ms/step - loss: 0.5892 - accuracy: 0.7466 - val_loss: 0.5725 - val_accuracy: 0.8264 - lr: 7.4274e-08\n",
      "Epoch 42/50\n",
      "59/59 [==============================] - 1s 23ms/step - loss: 0.5890 - accuracy: 0.7500 - val_loss: 0.5723 - val_accuracy: 0.8264 - lr: 6.7206e-08\n",
      "Epoch 43/50\n",
      "59/59 [==============================] - 1s 24ms/step - loss: 0.5889 - accuracy: 0.7466 - val_loss: 0.5721 - val_accuracy: 0.8264 - lr: 6.0810e-08\n",
      "Epoch 44/50\n",
      "59/59 [==============================] - 1s 24ms/step - loss: 0.5888 - accuracy: 0.7500 - val_loss: 0.5720 - val_accuracy: 0.8264 - lr: 5.5023e-08\n",
      "Epoch 45/50\n",
      "59/59 [==============================] - 1s 23ms/step - loss: 0.5886 - accuracy: 0.7500 - val_loss: 0.5718 - val_accuracy: 0.8264 - lr: 4.9787e-08\n",
      "Epoch 46/50\n",
      "59/59 [==============================] - 2s 27ms/step - loss: 0.5885 - accuracy: 0.7466 - val_loss: 0.5717 - val_accuracy: 0.8264 - lr: 4.5049e-08\n",
      "Epoch 47/50\n",
      "59/59 [==============================] - 2s 26ms/step - loss: 0.5884 - accuracy: 0.7500 - val_loss: 0.5716 - val_accuracy: 0.8264 - lr: 4.0762e-08\n",
      "Epoch 48/50\n",
      "59/59 [==============================] - 2s 30ms/step - loss: 0.5883 - accuracy: 0.7500 - val_loss: 0.5716 - val_accuracy: 0.8264 - lr: 3.6883e-08\n",
      "Epoch 49/50\n",
      "59/59 [==============================] - 1s 24ms/step - loss: 0.5882 - accuracy: 0.7500 - val_loss: 0.5715 - val_accuracy: 0.8264 - lr: 3.3373e-08\n",
      "Epoch 50/50\n",
      "59/59 [==============================] - 2s 29ms/step - loss: 0.5881 - accuracy: 0.7466 - val_loss: 0.5714 - val_accuracy: 0.8264 - lr: 3.0197e-08\n"
     ]
    }
   ],
   "source": [
    "# Final Model \n",
    "features_of_interest = [\"ss\", \"rsrq\", \"rsrp\"]\n",
    "X = resampled_df[features_of_interest].values\n",
    "y = resampled_df['handoverOccured'].values\n",
    "\n",
    "X_train, X_test, y_train, y_test = train_test_split(X, y, \n",
    "                test_size=0.33, random_state=42, stratify=y)\n",
    "\n",
    "model = keras.Sequential(\n",
    "    [\n",
    "        layers.Dense(1000, activation=\"relu\", name=\"layer1\"),\n",
    "        layers.Dense(1000, activation=\"relu\", name=\"layer2\"),\n",
    "        layers.Dense(1000, activation=\"relu\", name=\"layer3\"),\n",
    "        layers.Dense(1000, activation=\"relu\", name=\"layer4\"),\n",
    "        layers.Dense(1, activation=\"sigmoid\", name=\"layer5\"),\n",
    "    ]\n",
    ")\n",
    "# Call model on a test input\n",
    "y = model(X[0:2])\n",
    "\n",
    "model.compile(\n",
    "    optimizer=keras.optimizers.RMSprop(\n",
    "        learning_rate=0.000001\n",
    "    ),  # Optimizer\n",
    "    # Loss function to minimize\n",
    "    loss=\"binary_crossentropy\",\n",
    "    metrics=[\"accuracy\"] # tf.keras.metrics.Recall(), tf.keras.metrics.Precision()\n",
    ")\n",
    "\n",
    "def scheduler(epoch,lr):\n",
    "    if epoch < 15: \n",
    "        return lr\n",
    "    else: \n",
    "        return lr * tf.math.exp(-0.1)\n",
    "\n",
    "lr_callback = tf.keras.callbacks.LearningRateScheduler(scheduler)\n",
    "callbacks = [lr_callback]\n",
    "\n",
    "history = model.fit(\n",
    "    X_train,\n",
    "    y_train,\n",
    "    batch_size=5,\n",
    "    epochs=50,\n",
    "    callbacks=callbacks,\n",
    "    validation_data=(X_test, y_test),\n",
    "    verbose=1\n",
    ")\n",
    "best_loss = min(history.history['val_loss'])\n",
    "best_accuracy = max(history.history['val_accuracy'])\n",
    "result = {\n",
    "    \"best_loss\": best_loss,\n",
    "    \"best_accuracy\": best_accuracy\n",
    "}"
   ]
  },
  {
   "cell_type": "code",
   "execution_count": 120,
   "metadata": {},
   "outputs": [
    {
     "data": {
      "text/plain": [
       "(0.7402007195606892, 0.7935779816513762)"
      ]
     },
     "execution_count": 120,
     "metadata": {},
     "output_type": "execute_result"
    }
   ],
   "source": [
    "def tpr(mat):\n",
    "    t = mat[0][0]\n",
    "    a = mat[0][0] + mat[0][1]\n",
    "    return t/a\n",
    "\n",
    "def fpr(mat):\n",
    "    t = mat[1][1]\n",
    "    a = mat[1][0] + mat[1][1]\n",
    "    return t/a\n",
    "tpr(confusion_matrix), fpr(confusion_matrix)"
   ]
  },
  {
   "cell_type": "code",
   "execution_count": 122,
   "metadata": {},
   "outputs": [
    {
     "name": "stdout",
     "output_type": "stream",
     "text": [
      "14/14 [==============================] - 0s 3ms/step\n"
     ]
    },
    {
     "data": {
      "image/png": "[encoded data removed]",
      "text/plain": [
       "<Figure size 432x288 with 2 Axes>"
      ]
     },
     "metadata": {
      "needs_background": "light"
     },
     "output_type": "display_data"
    },
    {
     "name": "stdout",
     "output_type": "stream",
     "text": [
      "0.7568807339449541 0.7935779816513762\n"
     ]
    }
   ],
   "source": [
    "import matplotlib.pyplot as plt\n",
    "import numpy\n",
    "from sklearn import metrics\n",
    "\n",
    "y_prob = model.predict(X).flatten()\n",
    "y_pred = np.where(y_prob > 0.5, 1,0)\n",
    "confusion_matrix = metrics.confusion_matrix(y, y_pred)\n",
    "\n",
    "cm_display = metrics.ConfusionMatrixDisplay(confusion_matrix = confusion_matrix, display_labels = [False, True])\n",
    "\n",
    "cm_display.plot()\n",
    "\n",
    "plt.title(\"Performance on Balanced Dataset\")\n",
    "plt.show()\n",
    "\n",
    "print(tpr(confusion_matrix), fpr(confusion_matrix))"
   ]
  },
  {
   "cell_type": "code",
   "execution_count": 123,
   "metadata": {},
   "outputs": [
    {
     "name": "stdout",
     "output_type": "stream",
     "text": [
      "172/172 [==============================] - 1s 3ms/step\n"
     ]
    },
    {
     "data": {
      "image/png": "[encoded data removed]",
      "text/plain": [
       "<Figure size 432x288 with 2 Axes>"
      ]
     },
     "metadata": {
      "needs_background": "light"
     },
     "output_type": "display_data"
    },
    {
     "name": "stdout",
     "output_type": "stream",
     "text": [
      "0.7402007195606892 0.7935779816513762\n"
     ]
    }
   ],
   "source": [
    "X_all = df_all[features_of_interest].values\n",
    "y_all = df_all['handoverOccured'].values\n",
    "y_all_prob = model.predict(X_all).flatten()\n",
    "y_all_pred = np.where(y_all_prob > 0.5, 1,0)\n",
    "\n",
    "confusion_matrix = metrics.confusion_matrix(y_all, y_all_pred)\n",
    "\n",
    "cm_display = metrics.ConfusionMatrixDisplay(confusion_matrix = confusion_matrix, display_labels = [False, True])\n",
    "\n",
    "cm_display.plot()\n",
    "\n",
    "plt.title(\"Performance on Entire Dataset\")\n",
    "plt.show()\n",
    "\n",
    "print(tpr(confusion_matrix), fpr(confusion_matrix))\n"
   ]
  },
  {
   "cell_type": "markdown",
   "metadata": {},
   "source": [
    "# Create Dataset over multiple timesteps"
   ]
  },
  {
   "cell_type": "code",
   "execution_count": null,
   "metadata": {},
   "outputs": [
    {
     "data": {
      "text/html": [
       "<div>\n",
       "<style scoped>\n",
       "    .dataframe tbody tr th:only-of-type {\n",
       "        vertical-align: middle;\n",
       "    }\n",
       "\n",
       "    .dataframe tbody tr th {\n",
       "        vertical-align: top;\n",
       "    }\n",
       "\n",
       "    .dataframe thead th {\n",
       "        text-align: right;\n",
       "    }\n",
       "</style>\n",
       "<table border=\"1\" class=\"dataframe\">\n",
       "  <thead>\n",
       "    <tr style=\"text-align: right;\">\n",
       "      <th></th>\n",
       "      <th>ss</th>\n",
       "      <th>rsrq</th>\n",
       "      <th>rsrp</th>\n",
       "      <th>max_ss</th>\n",
       "      <th>max_rsrp</th>\n",
       "      <th>max_rsrq</th>\n",
       "      <th>diff_in_ss</th>\n",
       "      <th>diff_in_rsrq</th>\n",
       "      <th>diff_in_rsrp</th>\n",
       "    </tr>\n",
       "  </thead>\n",
       "  <tbody>\n",
       "    <tr>\n",
       "      <th>0</th>\n",
       "      <td>19</td>\n",
       "      <td>-10</td>\n",
       "      <td>-106</td>\n",
       "      <td>15</td>\n",
       "      <td>-114</td>\n",
       "      <td>-15</td>\n",
       "      <td>4</td>\n",
       "      <td>5</td>\n",
       "      <td>8</td>\n",
       "    </tr>\n",
       "    <tr>\n",
       "      <th>1</th>\n",
       "      <td>21</td>\n",
       "      <td>-9</td>\n",
       "      <td>-102</td>\n",
       "      <td>14</td>\n",
       "      <td>-113</td>\n",
       "      <td>-14</td>\n",
       "      <td>7</td>\n",
       "      <td>5</td>\n",
       "      <td>11</td>\n",
       "    </tr>\n",
       "    <tr>\n",
       "      <th>2</th>\n",
       "      <td>22</td>\n",
       "      <td>-12</td>\n",
       "      <td>-106</td>\n",
       "      <td>14</td>\n",
       "      <td>-115</td>\n",
       "      <td>-18</td>\n",
       "      <td>8</td>\n",
       "      <td>6</td>\n",
       "      <td>9</td>\n",
       "    </tr>\n",
       "    <tr>\n",
       "      <th>3</th>\n",
       "      <td>22</td>\n",
       "      <td>-12</td>\n",
       "      <td>-103</td>\n",
       "      <td>16</td>\n",
       "      <td>-111</td>\n",
       "      <td>-19</td>\n",
       "      <td>6</td>\n",
       "      <td>7</td>\n",
       "      <td>8</td>\n",
       "    </tr>\n",
       "    <tr>\n",
       "      <th>4</th>\n",
       "      <td>20</td>\n",
       "      <td>-10</td>\n",
       "      <td>-103</td>\n",
       "      <td>15</td>\n",
       "      <td>-113</td>\n",
       "      <td>-18</td>\n",
       "      <td>5</td>\n",
       "      <td>8</td>\n",
       "      <td>10</td>\n",
       "    </tr>\n",
       "    <tr>\n",
       "      <th>...</th>\n",
       "      <td>...</td>\n",
       "      <td>...</td>\n",
       "      <td>...</td>\n",
       "      <td>...</td>\n",
       "      <td>...</td>\n",
       "      <td>...</td>\n",
       "      <td>...</td>\n",
       "      <td>...</td>\n",
       "      <td>...</td>\n",
       "    </tr>\n",
       "    <tr>\n",
       "      <th>3317</th>\n",
       "      <td>11</td>\n",
       "      <td>-17</td>\n",
       "      <td>-123</td>\n",
       "      <td>7</td>\n",
       "      <td>-126</td>\n",
       "      <td>-18</td>\n",
       "      <td>4</td>\n",
       "      <td>1</td>\n",
       "      <td>3</td>\n",
       "    </tr>\n",
       "    <tr>\n",
       "      <th>3318</th>\n",
       "      <td>10</td>\n",
       "      <td>-18</td>\n",
       "      <td>-125</td>\n",
       "      <td>6</td>\n",
       "      <td>-130</td>\n",
       "      <td>-18</td>\n",
       "      <td>4</td>\n",
       "      <td>0</td>\n",
       "      <td>5</td>\n",
       "    </tr>\n",
       "    <tr>\n",
       "      <th>3319</th>\n",
       "      <td>10</td>\n",
       "      <td>-20</td>\n",
       "      <td>-127</td>\n",
       "      <td>6</td>\n",
       "      <td>-128</td>\n",
       "      <td>-17</td>\n",
       "      <td>4</td>\n",
       "      <td>-3</td>\n",
       "      <td>1</td>\n",
       "    </tr>\n",
       "    <tr>\n",
       "      <th>3320</th>\n",
       "      <td>9</td>\n",
       "      <td>-20</td>\n",
       "      <td>-130</td>\n",
       "      <td>0</td>\n",
       "      <td>-1000</td>\n",
       "      <td>-1000</td>\n",
       "      <td>9</td>\n",
       "      <td>980</td>\n",
       "      <td>870</td>\n",
       "    </tr>\n",
       "    <tr>\n",
       "      <th>3321</th>\n",
       "      <td>11</td>\n",
       "      <td>-19</td>\n",
       "      <td>-124</td>\n",
       "      <td>0</td>\n",
       "      <td>-1000</td>\n",
       "      <td>-1000</td>\n",
       "      <td>11</td>\n",
       "      <td>981</td>\n",
       "      <td>876</td>\n",
       "    </tr>\n",
       "  </tbody>\n",
       "</table>\n",
       "<p>3322 rows × 9 columns</p>\n",
       "</div>"
      ],
      "text/plain": [
       "      ss  rsrq  rsrp  max_ss  max_rsrp  max_rsrq  diff_in_ss  diff_in_rsrq  \\\n",
       "0     19   -10  -106      15      -114       -15           4             5   \n",
       "1     21    -9  -102      14      -113       -14           7             5   \n",
       "2     22   -12  -106      14      -115       -18           8             6   \n",
       "3     22   -12  -103      16      -111       -19           6             7   \n",
       "4     20   -10  -103      15      -113       -18           5             8   \n",
       "...   ..   ...   ...     ...       ...       ...         ...           ...   \n",
       "3317  11   -17  -123       7      -126       -18           4             1   \n",
       "3318  10   -18  -125       6      -130       -18           4             0   \n",
       "3319  10   -20  -127       6      -128       -17           4            -3   \n",
       "3320   9   -20  -130       0     -1000     -1000           9           980   \n",
       "3321  11   -19  -124       0     -1000     -1000          11           981   \n",
       "\n",
       "      diff_in_rsrp  \n",
       "0                8  \n",
       "1               11  \n",
       "2                9  \n",
       "3                8  \n",
       "4               10  \n",
       "...            ...  \n",
       "3317             3  \n",
       "3318             5  \n",
       "3319             1  \n",
       "3320           870  \n",
       "3321           876  \n",
       "\n",
       "[3322 rows x 9 columns]"
      ]
     },
     "execution_count": 74,
     "metadata": {},
     "output_type": "execute_result"
    }
   ],
   "source": [
    "# N x T x F\n",
    "df_all[features_of_interest]"
   ]
  }
 ],
 "metadata": {
  "kernelspec": {
   "display_name": "Python 3.9.5 ('ML')",
   "language": "python",
   "name": "python3"
  },
  "language_info": {
   "codemirror_mode": {
    "name": "ipython",
    "version": 3
   },
   "file_extension": ".py",
   "mimetype": "text/x-python",
   "name": "python",
   "nbconvert_exporter": "python",
   "pygments_lexer": "ipython3",
   "version": "3.9.5"
  },
  "orig_nbformat": 4,
  "vscode": {
   "interpreter": {
    "hash": "0e93e2797292d05843b048c745ac44eb7f21c25fa295e664e5e417ce15ef34fa"
   }
  }
 },
 "nbformat": 4,
 "nbformat_minor": 2
}
