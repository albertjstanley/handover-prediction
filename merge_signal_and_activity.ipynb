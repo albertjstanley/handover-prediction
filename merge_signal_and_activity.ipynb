{
 "cells": [
  {
   "cell_type": "code",
   "execution_count": 1,
   "metadata": {},
   "outputs": [],
   "source": [
    "# Take a csv file that has signals data and basically sample from it a bunch of datapoints however we want\n",
    "# Could be in increments of time intervals \n",
    "# Basically say in the past time\n",
    "# Take a activity dataset and basically sample however we want from it"
   ]
  },
  {
   "cell_type": "markdown",
   "metadata": {},
   "source": [
    "# Load Signal and Activity Dataset"
   ]
  },
  {
   "cell_type": "code",
   "execution_count": 2,
   "metadata": {},
   "outputs": [],
   "source": [
    "import pandas as pd\n",
    "\n",
    "BASE_NUM = \"21\"\n",
    "SIGNAL_PATH = f\"./datasets/processed_sig{BASE_NUM}.txt\"\n",
    "ACTIVITY_PATH = f\"./datasets/processed_act{BASE_NUM}.txt\"\n",
    "\n",
    "def load_signal_csv(csv_path):\n",
    "    df = pd.read_csv(csv_path)\n",
    "    # Remove columns that have invalid data\n",
    "    clean_df = df.loc[:, ~df.columns.isin(['rssnr', 'cqi','ta'])]\n",
    "    return clean_df\n",
    "\n",
    "signal_df = load_signal_csv(SIGNAL_PATH)\n",
    "\n",
    "\n",
    "def load_activity_csv(path):\n",
    "    # This dataframe contains time, activity, status(enter/exit)\n",
    "    activity_df = pd.read_csv(path)\n",
    "    # Ignore EXIT state since we only care about current state\n",
    "    activity_df = activity_df[activity_df['status'] != \"EXIT\"]\n",
    "    return activity_df\n",
    "\n",
    "activity_df = load_activity_csv(ACTIVITY_PATH)"
   ]
  },
  {
   "cell_type": "code",
   "execution_count": 3,
   "metadata": {},
   "outputs": [
    {
     "data": {
      "text/html": [
       "<div>\n",
       "<style scoped>\n",
       "    .dataframe tbody tr th:only-of-type {\n",
       "        vertical-align: middle;\n",
       "    }\n",
       "\n",
       "    .dataframe tbody tr th {\n",
       "        vertical-align: top;\n",
       "    }\n",
       "\n",
       "    .dataframe thead th {\n",
       "        text-align: right;\n",
       "    }\n",
       "</style>\n",
       "<table border=\"1\" class=\"dataframe\">\n",
       "  <thead>\n",
       "    <tr style=\"text-align: right;\">\n",
       "      <th></th>\n",
       "      <th>time</th>\n",
       "      <th>mRegistered</th>\n",
       "      <th>mTimeStamp</th>\n",
       "      <th>mPci</th>\n",
       "      <th>mTac</th>\n",
       "      <th>mEarfcn</th>\n",
       "      <th>mMcc+mMnc</th>\n",
       "      <th>ss</th>\n",
       "      <th>rsrp</th>\n",
       "      <th>rsrq</th>\n",
       "    </tr>\n",
       "  </thead>\n",
       "  <tbody>\n",
       "    <tr>\n",
       "      <th>0</th>\n",
       "      <td>12-03 19:48:28.423</td>\n",
       "      <td>YES</td>\n",
       "      <td>12319826322802</td>\n",
       "      <td>116</td>\n",
       "      <td>16185</td>\n",
       "      <td>675</td>\n",
       "      <td>310260</td>\n",
       "      <td>22</td>\n",
       "      <td>-98</td>\n",
       "      <td>-9</td>\n",
       "    </tr>\n",
       "    <tr>\n",
       "      <th>1</th>\n",
       "      <td>12-03 19:48:28.423</td>\n",
       "      <td>NO</td>\n",
       "      <td>12319826322802</td>\n",
       "      <td>44</td>\n",
       "      <td>2147483647</td>\n",
       "      <td>675</td>\n",
       "      <td>nullnull</td>\n",
       "      <td>16</td>\n",
       "      <td>-110</td>\n",
       "      <td>-18</td>\n",
       "    </tr>\n",
       "    <tr>\n",
       "      <th>2</th>\n",
       "      <td>12-03 19:48:28.650</td>\n",
       "      <td>NO</td>\n",
       "      <td>12319826322802</td>\n",
       "      <td>44</td>\n",
       "      <td>2147483647</td>\n",
       "      <td>675</td>\n",
       "      <td>nullnull</td>\n",
       "      <td>16</td>\n",
       "      <td>-110</td>\n",
       "      <td>-18</td>\n",
       "    </tr>\n",
       "    <tr>\n",
       "      <th>3</th>\n",
       "      <td>12-03 19:48:28.681</td>\n",
       "      <td>YES</td>\n",
       "      <td>12319826322802</td>\n",
       "      <td>116</td>\n",
       "      <td>16185</td>\n",
       "      <td>675</td>\n",
       "      <td>310260</td>\n",
       "      <td>22</td>\n",
       "      <td>-98</td>\n",
       "      <td>-9</td>\n",
       "    </tr>\n",
       "    <tr>\n",
       "      <th>4</th>\n",
       "      <td>12-03 19:48:28.681</td>\n",
       "      <td>NO</td>\n",
       "      <td>12319826322802</td>\n",
       "      <td>44</td>\n",
       "      <td>2147483647</td>\n",
       "      <td>675</td>\n",
       "      <td>nullnull</td>\n",
       "      <td>16</td>\n",
       "      <td>-110</td>\n",
       "      <td>-18</td>\n",
       "    </tr>\n",
       "  </tbody>\n",
       "</table>\n",
       "</div>"
      ],
      "text/plain": [
       "                 time mRegistered      mTimeStamp  mPci        mTac  mEarfcn  \\\n",
       "0  12-03 19:48:28.423         YES  12319826322802   116       16185      675   \n",
       "1  12-03 19:48:28.423          NO  12319826322802    44  2147483647      675   \n",
       "2  12-03 19:48:28.650          NO  12319826322802    44  2147483647      675   \n",
       "3  12-03 19:48:28.681         YES  12319826322802   116       16185      675   \n",
       "4  12-03 19:48:28.681          NO  12319826322802    44  2147483647      675   \n",
       "\n",
       "  mMcc+mMnc  ss  rsrp  rsrq  \n",
       "0    310260  22   -98    -9  \n",
       "1  nullnull  16  -110   -18  \n",
       "2  nullnull  16  -110   -18  \n",
       "3    310260  22   -98    -9  \n",
       "4  nullnull  16  -110   -18  "
      ]
     },
     "execution_count": 3,
     "metadata": {},
     "output_type": "execute_result"
    }
   ],
   "source": [
    "signal_df.head()\n"
   ]
  },
  {
   "cell_type": "code",
   "execution_count": 4,
   "metadata": {},
   "outputs": [
    {
     "data": {
      "text/html": [
       "<div>\n",
       "<style scoped>\n",
       "    .dataframe tbody tr th:only-of-type {\n",
       "        vertical-align: middle;\n",
       "    }\n",
       "\n",
       "    .dataframe tbody tr th {\n",
       "        vertical-align: top;\n",
       "    }\n",
       "\n",
       "    .dataframe thead th {\n",
       "        text-align: right;\n",
       "    }\n",
       "</style>\n",
       "<table border=\"1\" class=\"dataframe\">\n",
       "  <thead>\n",
       "    <tr style=\"text-align: right;\">\n",
       "      <th></th>\n",
       "      <th>time</th>\n",
       "      <th>activity</th>\n",
       "      <th>status</th>\n",
       "    </tr>\n",
       "  </thead>\n",
       "  <tbody>\n",
       "    <tr>\n",
       "      <th>0</th>\n",
       "      <td>12-03 19:48:33.262</td>\n",
       "      <td>STILL</td>\n",
       "      <td>ENTER</td>\n",
       "    </tr>\n",
       "    <tr>\n",
       "      <th>2</th>\n",
       "      <td>12-03 19:52:59.581</td>\n",
       "      <td>WALKING</td>\n",
       "      <td>ENTER</td>\n",
       "    </tr>\n",
       "    <tr>\n",
       "      <th>4</th>\n",
       "      <td>12-03 19:53:39.655</td>\n",
       "      <td>STILL</td>\n",
       "      <td>ENTER</td>\n",
       "    </tr>\n",
       "    <tr>\n",
       "      <th>6</th>\n",
       "      <td>12-03 19:54:05.397</td>\n",
       "      <td>WALKING</td>\n",
       "      <td>ENTER</td>\n",
       "    </tr>\n",
       "    <tr>\n",
       "      <th>8</th>\n",
       "      <td>12-03 20:01:22.471</td>\n",
       "      <td>STILL</td>\n",
       "      <td>ENTER</td>\n",
       "    </tr>\n",
       "  </tbody>\n",
       "</table>\n",
       "</div>"
      ],
      "text/plain": [
       "                 time activity status\n",
       "0  12-03 19:48:33.262    STILL  ENTER\n",
       "2  12-03 19:52:59.581  WALKING  ENTER\n",
       "4  12-03 19:53:39.655    STILL  ENTER\n",
       "6  12-03 19:54:05.397  WALKING  ENTER\n",
       "8  12-03 20:01:22.471    STILL  ENTER"
      ]
     },
     "execution_count": 4,
     "metadata": {},
     "output_type": "execute_result"
    }
   ],
   "source": [
    "activity_df.head()"
   ]
  },
  {
   "cell_type": "markdown",
   "metadata": {},
   "source": [
    "# Merge Datasets"
   ]
  },
  {
   "cell_type": "code",
   "execution_count": 5,
   "metadata": {},
   "outputs": [],
   "source": [
    "def search_activity_status_at_time(query_time, activity_df):\n",
    "\n",
    "    # Searches the activity_df to get the\n",
    "    # state of the device at time\n",
    "    \n",
    "    no_value_string = \"NOVALUE\"\n",
    "    last_observed_state = no_value_string\n",
    "    activity_time_passed_query_time = False\n",
    "    \n",
    "    for _,row in activity_df.iterrows():\n",
    "        if query_time < row['time']:\n",
    "            # Passed the state we wanted\n",
    "            activity_time_passed_query_time = True\n",
    "            break\n",
    "        \n",
    "        last_observed_state = row['activity']\n",
    "    \n",
    "    if not activity_time_passed_query_time:\n",
    "        # time is sometime in the future after acitivity data\n",
    "        last_observed_state = no_value_string\n",
    "    \n",
    "    return last_observed_state\n",
    "\n",
    "# Example of searching for activity at specific time\n",
    "# search_activity_status_at_time(\"11-06 16:50:26.900\", activity_df)\n",
    "# search_activity_status_at_time(\"11-07 16:50:26.900\", activity_df)\n",
    "def create_merged_dataset(signal_df, activity_df):\n",
    "    merged_df = signal_df.copy()\n",
    "    merged_df['activity'] = \"INVALID\"\n",
    "    cached_result = {}\n",
    "    for i,row, in signal_df.iterrows():\n",
    "        time = row['time']\n",
    "        if time not in cached_result:\n",
    "            cached_result[time] = search_activity_status_at_time(row['time'], activity_df)\n",
    "        merged_df.loc[i,'activity'] = cached_result[time]\n",
    "    return merged_df"
   ]
  },
  {
   "cell_type": "code",
   "execution_count": null,
   "metadata": {},
   "outputs": [],
   "source": [
    "merged_df = create_merged_dataset(signal_df, activity_df)\n",
    "merged_df.head()"
   ]
  },
  {
   "cell_type": "markdown",
   "metadata": {},
   "source": [
    "# Drop Duplicates Using mTimeStamp and mPci\n",
    "\n",
    "Now that we have merged the two datasets lets drop any duplicates identified using the mTimestamp\n"
   ]
  },
  {
   "cell_type": "code",
   "execution_count": null,
   "metadata": {},
   "outputs": [],
   "source": [
    "length_before = len(merged_df)\n",
    "df_no_duplicates = merged_df.drop_duplicates(subset=[\"mTimeStamp\", \"mPci\"]).reset_index(drop=True)\n",
    "print(f\"Trimmed from {length_before} to {len(df_no_duplicates)}\")"
   ]
  },
  {
   "cell_type": "markdown",
   "metadata": {},
   "source": [
    "# Mark Points with Handover "
   ]
  },
  {
   "cell_type": "code",
   "execution_count": null,
   "metadata": {},
   "outputs": [],
   "source": [
    "def get_max_at_time(df, time):\n",
    "    timestep_df = df[df['time'] == time].reset_index(drop=True)\n",
    "    timestep_df = timestep_df[timestep_df['mRegistered'] == \"NO\"]\n",
    "\n",
    "    if len(timestep_df) == 0:\n",
    "        return {\n",
    "            \"max_ss\": 0,\n",
    "            \"max_rsrp\": -1000,\n",
    "            \"max_rsrq\": -1000,\n",
    "        }\n",
    "\n",
    "    ret = {\n",
    "        \"max_ss\": max(timestep_df['ss'].values),\n",
    "        \"max_rsrp\": max(timestep_df['rsrp'].values),\n",
    "        \"max_rsrq\": max(timestep_df['rsrq'].values),\n",
    "    }\n",
    "    return ret\n",
    "\n",
    "merged_registered_df = df_no_duplicates[df_no_duplicates['mRegistered'] == \"YES\"].reset_index(drop=True)\n",
    "merged_registered_df['nextAP'] = merged_registered_df['mPci'].shift(-1)\n",
    "merged_registered_df = merged_registered_df[:-1]\n",
    "def label_handover_occured(row):\n",
    "    if row['mPci'] == row['nextAP']:\n",
    "        return 0\n",
    "    return 1\n",
    "merged_registered_df['handoverOccured'] = merged_registered_df.apply(lambda row: label_handover_occured(row), axis=1)\n",
    "merged_registered_df['max_ss'] = merged_registered_df.apply(lambda row: get_max_at_time(df_no_duplicates, row['time'])['max_ss'], axis=1)\n",
    "merged_registered_df['max_rsrp'] = merged_registered_df.apply(lambda row: get_max_at_time(df_no_duplicates, row['time'])['max_rsrp'], axis=1)\n",
    "merged_registered_df['max_rsrq'] = merged_registered_df.apply(lambda row: get_max_at_time(df_no_duplicates, row['time'])['max_rsrq'], axis=1)\n",
    "\n",
    "print(merged_registered_df['handoverOccured'].value_counts())\n",
    "merged_registered_df.head()"
   ]
  },
  {
   "cell_type": "code",
   "execution_count": null,
   "metadata": {},
   "outputs": [],
   "source": [
    "# Add secondary features showing difference between selected AP and other APs\n",
    "merged_registered_df['diff_in_ss'] = merged_registered_df['ss'] - merged_registered_df['max_ss']\n",
    "merged_registered_df['diff_in_rsrp'] = merged_registered_df['rsrp'] - merged_registered_df['max_rsrp']\n",
    "merged_registered_df['diff_in_rsrq'] = merged_registered_df['rsrq'] - merged_registered_df['max_rsrq']\n"
   ]
  },
  {
   "cell_type": "code",
   "execution_count": null,
   "metadata": {},
   "outputs": [],
   "source": [
    "merged_registered_df[merged_registered_df['handoverOccured'] == 1]"
   ]
  },
  {
   "cell_type": "code",
   "execution_count": null,
   "metadata": {
    "scrolled": true
   },
   "outputs": [],
   "source": [
    "merged_registered_df.loc[65:75]"
   ]
  },
  {
   "cell_type": "code",
   "execution_count": null,
   "metadata": {},
   "outputs": [],
   "source": [
    "merged_registered_df.to_csv(f\"./datasets/merged{BASE_NUM}.txt\", index=False)"
   ]
  }
 ],
 "metadata": {
  "kernelspec": {
   "display_name": "Python 3 (ipykernel)",
   "language": "python",
   "name": "python3"
  },
  "language_info": {
   "codemirror_mode": {
    "name": "ipython",
    "version": 3
   },
   "file_extension": ".py",
   "mimetype": "text/x-python",
   "name": "python",
   "nbconvert_exporter": "python",
   "pygments_lexer": "ipython3",
   "version": "3.9.13"
  },
  "vscode": {
   "interpreter": {
    "hash": "0e93e2797292d05843b048c745ac44eb7f21c25fa295e664e5e417ce15ef34fa"
   }
  }
 },
 "nbformat": 4,
 "nbformat_minor": 2
}
