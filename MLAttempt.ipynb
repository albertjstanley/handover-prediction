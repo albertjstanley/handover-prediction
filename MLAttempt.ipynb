{
 "cells": [
  {
   "cell_type": "code",
   "execution_count": 2,
   "metadata": {},
   "outputs": [],
   "source": [
    "import pandas as pd\n",
    "import random\n",
    "from sklearn.model_selection import train_test_split\n",
    "from sklearn.linear_model import LogisticRegression\n",
    "from sklearn.metrics import accuracy_score\n",
    "from sklearn.metrics import confusion_matrix\n",
    "import seaborn as sns\n",
    "import numpy as np\n",
    "pd.set_option('display.max_rows', 200)"
   ]
  },
  {
   "cell_type": "markdown",
   "metadata": {},
   "source": [
    "# Only using currently registered AP"
   ]
  },
  {
   "cell_type": "code",
   "execution_count": 3,
   "metadata": {},
   "outputs": [
    {
     "name": "stdout",
     "output_type": "stream",
     "text": [
      "Example Data at Index 0:\n",
      "X: [-15, -9, -6, -7, -11]\n",
      "Y: 0\n"
     ]
    }
   ],
   "source": [
    "# Read in Data and set it up\n",
    "data = pd.read_csv('./testingProcess/processed_test4.txt')\n",
    "data = data.drop_duplicates()\n",
    "data = data[data['mPci'] > 0]\n",
    "data = data[data['mRegistered'] == \"YES\"]\n",
    "data = data.sort_values(by=['mTimeStamp'])\n",
    "\n",
    "# Create Column to find if handover occurec\n",
    "data['nextAP'] = data['mPci'].shift(-1)\n",
    "data = data[:-1]\n",
    "def label_handover_occured(row):\n",
    "    if row['mPci'] == row['nextAP']:\n",
    "        return 0\n",
    "    return 1\n",
    "data['handoverOccured'] = data.apply(lambda row: label_handover_occured(row), axis=1)\n",
    "\n",
    "# Creating Training Data\n",
    "data_X = []\n",
    "data_Y = []\n",
    "number_samples = 5\n",
    "for index in range(0, len(data)-number_samples):\n",
    "    dataframe = data.iloc[index:index+number_samples]\n",
    "    dataframe = dataframe[['rsrq', 'handoverOccured']]\n",
    "    data_X.append(dataframe['rsrq'].tolist())\n",
    "    data_Y.append(dataframe.iloc[number_samples-1]['handoverOccured'])\n",
    "\n",
    "print(\"Example Data at Index 0:\")\n",
    "print(\"X: \" + str(data_X[0]))\n",
    "print(\"Y: \" + str(data_Y[0]))"
   ]
  },
  {
   "cell_type": "code",
   "execution_count": 4,
   "metadata": {},
   "outputs": [
    {
     "name": "stdout",
     "output_type": "stream",
     "text": [
      "Count of 0's in Training: 191\n",
      "Count of 1's in Training: 19\n",
      "True Positive Rate: 72.73%\n",
      "True Negative Rate: 65.59%\n"
     ]
    },
    {
     "data": {
      "text/plain": [
       "[Text(0.5, 15.0, 'Prediction'), Text(33.0, 0.5, 'Ground Truth')]"
      ]
     },
     "execution_count": 4,
     "metadata": {},
     "output_type": "execute_result"
    },
    {
     "data": {
      "image/png": "[encoded data removed]",
      "text/plain": [
       "<Figure size 432x288 with 2 Axes>"
      ]
     },
     "metadata": {
      "needs_background": "light"
     },
     "output_type": "display_data"
    }
   ],
   "source": [
    "X_train, X_test, y_train, y_test = train_test_split(data_X, data_Y, test_size=0.33, random_state=42)\n",
    "\n",
    "# Imbalanced Dataset\n",
    "# clf = LogisticRegression(random_state=0).fit(X_train, y_train)\n",
    "# Weighted Class\n",
    "count_0 = y_train.count(0)\n",
    "count_1 = y_train.count(1)\n",
    "print(\"Count of 0's in Training: \" + str(count_0))\n",
    "print(\"Count of 1's in Training: \" + str(count_1))\n",
    "w = {0: count_1, 1: count_0}\n",
    "clf = LogisticRegression(random_state=0, class_weight=w).fit(X_train, y_train)\n",
    "\n",
    "# Make Predictions\n",
    "predictions = clf.predict(X_test)\n",
    "\n",
    "# Calculate Metrics\n",
    "tn, fp, fn, tp = confusion_matrix(y_test, predictions).ravel()\n",
    "# TPR\n",
    "TPR = tp / (tp + fn)\n",
    "print(f\"True Positive Rate: {TPR:2.2%}\")\n",
    "# TNR\n",
    "TNR = tn / (tn + fp)\n",
    "print(f\"True Negative Rate: {TNR:2.2%}\")\n",
    "\n",
    "# print(\"Confusion Matrix:\")\n",
    "s = sns.heatmap(confusion_matrix(y_test, predictions), annot=True)\n",
    "s.set(xlabel='Prediction', ylabel='Ground Truth')\n"
   ]
  },
  {
   "cell_type": "code",
   "execution_count": 5,
   "metadata": {},
   "outputs": [],
   "source": [
    "# Add variable for timestamp instead of using the next row\n",
    "\n",
    "# Include ss, rsrp, rsrq\n",
    "# Include best neighboring cell's values\n",
    "# rsrp = -60 is good but potential threshold is =-100\n",
    "\n",
    "# Keep X input dimension combination of features\n",
    "# Different Handover windows based on accuracies - shorter may be easier?"
   ]
  },
  {
   "cell_type": "markdown",
   "metadata": {},
   "source": [
    "# Use Registered AP with SS and other variables"
   ]
  },
  {
   "cell_type": "code",
   "execution_count": 6,
   "metadata": {},
   "outputs": [
    {
     "name": "stdout",
     "output_type": "stream",
     "text": [
      "Example Data at Index 0:\n",
      "X: [31, -64, 31, -67, 31, -65, 31, -76, 31, -76]\n",
      "Y: 0\n"
     ]
    }
   ],
   "source": [
    "# Read in Data and set it up\n",
    "data = pd.read_csv('./testingProcess/processed_test4.txt')\n",
    "data = data.drop_duplicates()\n",
    "data = data[data['mPci'] > 0]\n",
    "data = data[data['mRegistered'] == \"YES\"]\n",
    "data = data.sort_values(by=['mTimeStamp'])\n",
    "\n",
    "# Create Column to find if handover occurec\n",
    "data['nextAP'] = data['mPci'].shift(-1)\n",
    "data = data[:-1]\n",
    "\n",
    "\n",
    "def label_handover_occured(row):\n",
    "    if row['mPci'] == row['nextAP']:\n",
    "        return 0\n",
    "    return 1\n",
    "\n",
    "\n",
    "data['handoverOccured'] = data.apply(\n",
    "    lambda row: label_handover_occured(row), axis=1)\n",
    "\n",
    "# Creating Training Data\n",
    "data_X = []\n",
    "data_Y = []\n",
    "number_samples = 5\n",
    "for index in range(0, len(data)-number_samples):\n",
    "    dataframe = data.iloc[index:index+number_samples]\n",
    "    datapoint = []\n",
    "    for i in range(number_samples):\n",
    "        datapoint.append(dataframe.iloc[i]['ss'])\n",
    "        datapoint.append(dataframe.iloc[i]['rsrp'])\n",
    "        # datapoint.append(dataframe.iloc[i]['rsrq'])\n",
    "    data_X.append(datapoint)\n",
    "    data_Y.append(dataframe.iloc[number_samples-1]['handoverOccured'])\n",
    "\n",
    "print(\"Example Data at Index 0:\")\n",
    "print(\"X: \" + str(data_X[0]))\n",
    "print(\"Y: \" + str(data_Y[0]))\n"
   ]
  },
  {
   "cell_type": "code",
   "execution_count": 7,
   "metadata": {},
   "outputs": [
    {
     "name": "stdout",
     "output_type": "stream",
     "text": [
      "Count of 0's in Training: 191\n",
      "Count of 1's in Training: 19\n",
      "True Positive Rate: 54.55%\n",
      "True Negative Rate: 75.27%\n"
     ]
    },
    {
     "data": {
      "text/plain": [
       "[Text(0.5, 15.0, 'Prediction'), Text(33.0, 0.5, 'Ground Truth')]"
      ]
     },
     "execution_count": 7,
     "metadata": {},
     "output_type": "execute_result"
    },
    {
     "data": {
      "image/png": "[encoded data removed]",
      "text/plain": [
       "<Figure size 432x288 with 2 Axes>"
      ]
     },
     "metadata": {
      "needs_background": "light"
     },
     "output_type": "display_data"
    }
   ],
   "source": [
    "X_train, X_test, y_train, y_test = train_test_split(data_X, data_Y, test_size=0.33, random_state=42)\n",
    "\n",
    "# Weighted Class\n",
    "count_0 = y_train.count(0)\n",
    "count_1 = y_train.count(1)\n",
    "print(\"Count of 0's in Training: \" + str(count_0))\n",
    "print(\"Count of 1's in Training: \" + str(count_1))\n",
    "w = {0: count_1, 1: count_0}\n",
    "clf = LogisticRegression(random_state=0, class_weight=w).fit(X_train, y_train)\n",
    "\n",
    "# Make Predictions\n",
    "predictions = clf.predict(X_test)\n",
    "\n",
    "# Calculate Metrics\n",
    "tn, fp, fn, tp = confusion_matrix(y_test, predictions).ravel()\n",
    "# TPR\n",
    "TPR = tp / (tp + fn)\n",
    "print(f\"True Positive Rate: {TPR:2.2%}\")\n",
    "# TNR\n",
    "TNR = tn / (tn + fp)\n",
    "print(f\"True Negative Rate: {TNR:2.2%}\")\n",
    "\n",
    "# print(\"Confusion Matrix:\")\n",
    "s = sns.heatmap(confusion_matrix(y_test, predictions), annot=True)\n",
    "s.set(xlabel='Prediction', ylabel='Ground Truth')\n"
   ]
  },
  {
   "cell_type": "markdown",
   "metadata": {},
   "source": [
    "# Compare best non-registered vs registered"
   ]
  },
  {
   "cell_type": "code",
   "execution_count": 31,
   "metadata": {},
   "outputs": [],
   "source": [
    "# Read in Data and set it up\n",
    "data = pd.read_csv('./testingProcess/processed_test4.txt')\n",
    "data = data.drop_duplicates()\n",
    "data = data[data['mPci'] > 0]\n",
    "data = data[data['mRegistered'] == \"YES\"]\n",
    "data = data.sort_values(by=['mTimeStamp'])\n",
    "\n",
    "# Create Column to find if handover occurec\n",
    "data['nextAP'] = data['mPci'].shift(-1)\n",
    "data = data[:-1]\n",
    "\n",
    "def label_handover_occured(row):\n",
    "    if row['mPci'] == row['nextAP']:\n",
    "        return 0\n",
    "    return 1\n",
    "\n",
    "data['handoverOccured'] = data.apply(\n",
    "    lambda row: label_handover_occured(row), axis=1)\n",
    "\n",
    "handover_list = data['handoverOccured'].tolist()"
   ]
  },
  {
   "cell_type": "code",
   "execution_count": 45,
   "metadata": {},
   "outputs": [
    {
     "data": {
      "text/html": [
       "<div>\n",
       "<style scoped>\n",
       "    .dataframe tbody tr th:only-of-type {\n",
       "        vertical-align: middle;\n",
       "    }\n",
       "\n",
       "    .dataframe tbody tr th {\n",
       "        vertical-align: top;\n",
       "    }\n",
       "\n",
       "    .dataframe thead th {\n",
       "        text-align: right;\n",
       "    }\n",
       "</style>\n",
       "<table border=\"1\" class=\"dataframe\">\n",
       "  <thead>\n",
       "    <tr style=\"text-align: right;\">\n",
       "      <th></th>\n",
       "      <th>mRegistered</th>\n",
       "      <th>mTimeStamp</th>\n",
       "      <th>mPci</th>\n",
       "      <th>mTac</th>\n",
       "      <th>mEarfcn</th>\n",
       "      <th>mMcc+mMnc</th>\n",
       "      <th>ss</th>\n",
       "      <th>rsrp</th>\n",
       "      <th>rsrq</th>\n",
       "      <th>rssnr</th>\n",
       "      <th>cqi</th>\n",
       "      <th>ta</th>\n",
       "    </tr>\n",
       "  </thead>\n",
       "  <tbody>\n",
       "    <tr>\n",
       "      <th>0</th>\n",
       "      <td>YES</td>\n",
       "      <td>60773417766871</td>\n",
       "      <td>192</td>\n",
       "      <td>16175</td>\n",
       "      <td>675</td>\n",
       "      <td>310260</td>\n",
       "      <td>31</td>\n",
       "      <td>-64</td>\n",
       "      <td>-15</td>\n",
       "      <td>2147483647</td>\n",
       "      <td>2147483647</td>\n",
       "      <td>2147483647</td>\n",
       "    </tr>\n",
       "    <tr>\n",
       "      <th>1</th>\n",
       "      <td>NO</td>\n",
       "      <td>60773417766871</td>\n",
       "      <td>179</td>\n",
       "      <td>2147483647</td>\n",
       "      <td>675</td>\n",
       "      <td>nullnull</td>\n",
       "      <td>28</td>\n",
       "      <td>-86</td>\n",
       "      <td>-18</td>\n",
       "      <td>2147483647</td>\n",
       "      <td>2147483647</td>\n",
       "      <td>2147483647</td>\n",
       "    </tr>\n",
       "    <tr>\n",
       "      <th>14</th>\n",
       "      <td>YES</td>\n",
       "      <td>60775480278066</td>\n",
       "      <td>192</td>\n",
       "      <td>16175</td>\n",
       "      <td>675</td>\n",
       "      <td>310260</td>\n",
       "      <td>31</td>\n",
       "      <td>-67</td>\n",
       "      <td>-9</td>\n",
       "      <td>2147483647</td>\n",
       "      <td>2147483647</td>\n",
       "      <td>2147483647</td>\n",
       "    </tr>\n",
       "    <tr>\n",
       "      <th>15</th>\n",
       "      <td>NO</td>\n",
       "      <td>60775480278066</td>\n",
       "      <td>179</td>\n",
       "      <td>2147483647</td>\n",
       "      <td>675</td>\n",
       "      <td>nullnull</td>\n",
       "      <td>28</td>\n",
       "      <td>-86</td>\n",
       "      <td>-18</td>\n",
       "      <td>2147483647</td>\n",
       "      <td>2147483647</td>\n",
       "      <td>2147483647</td>\n",
       "    </tr>\n",
       "    <tr>\n",
       "      <th>34</th>\n",
       "      <td>YES</td>\n",
       "      <td>60777989277899</td>\n",
       "      <td>192</td>\n",
       "      <td>16175</td>\n",
       "      <td>675</td>\n",
       "      <td>310260</td>\n",
       "      <td>31</td>\n",
       "      <td>-65</td>\n",
       "      <td>-6</td>\n",
       "      <td>2147483647</td>\n",
       "      <td>2147483647</td>\n",
       "      <td>2147483647</td>\n",
       "    </tr>\n",
       "    <tr>\n",
       "      <th>35</th>\n",
       "      <td>NO</td>\n",
       "      <td>60777989277899</td>\n",
       "      <td>179</td>\n",
       "      <td>2147483647</td>\n",
       "      <td>675</td>\n",
       "      <td>nullnull</td>\n",
       "      <td>28</td>\n",
       "      <td>-86</td>\n",
       "      <td>-18</td>\n",
       "      <td>2147483647</td>\n",
       "      <td>2147483647</td>\n",
       "      <td>2147483647</td>\n",
       "    </tr>\n",
       "    <tr>\n",
       "      <th>50</th>\n",
       "      <td>YES</td>\n",
       "      <td>60780100909776</td>\n",
       "      <td>192</td>\n",
       "      <td>16175</td>\n",
       "      <td>675</td>\n",
       "      <td>310260</td>\n",
       "      <td>31</td>\n",
       "      <td>-76</td>\n",
       "      <td>-7</td>\n",
       "      <td>2147483647</td>\n",
       "      <td>2147483647</td>\n",
       "      <td>2147483647</td>\n",
       "    </tr>\n",
       "    <tr>\n",
       "      <th>51</th>\n",
       "      <td>NO</td>\n",
       "      <td>60780100909776</td>\n",
       "      <td>179</td>\n",
       "      <td>2147483647</td>\n",
       "      <td>675</td>\n",
       "      <td>nullnull</td>\n",
       "      <td>27</td>\n",
       "      <td>-92</td>\n",
       "      <td>-20</td>\n",
       "      <td>2147483647</td>\n",
       "      <td>2147483647</td>\n",
       "      <td>2147483647</td>\n",
       "    </tr>\n",
       "    <tr>\n",
       "      <th>54</th>\n",
       "      <td>YES</td>\n",
       "      <td>60780500794035</td>\n",
       "      <td>192</td>\n",
       "      <td>16175</td>\n",
       "      <td>675</td>\n",
       "      <td>310260</td>\n",
       "      <td>31</td>\n",
       "      <td>-76</td>\n",
       "      <td>-11</td>\n",
       "      <td>2147483647</td>\n",
       "      <td>2147483647</td>\n",
       "      <td>2147483647</td>\n",
       "    </tr>\n",
       "    <tr>\n",
       "      <th>55</th>\n",
       "      <td>NO</td>\n",
       "      <td>60780500794035</td>\n",
       "      <td>179</td>\n",
       "      <td>2147483647</td>\n",
       "      <td>675</td>\n",
       "      <td>nullnull</td>\n",
       "      <td>27</td>\n",
       "      <td>-92</td>\n",
       "      <td>-20</td>\n",
       "      <td>2147483647</td>\n",
       "      <td>2147483647</td>\n",
       "      <td>2147483647</td>\n",
       "    </tr>\n",
       "  </tbody>\n",
       "</table>\n",
       "</div>"
      ],
      "text/plain": [
       "   mRegistered      mTimeStamp  mPci        mTac  mEarfcn mMcc+mMnc  ss  rsrp  \\\n",
       "0          YES  60773417766871   192       16175      675    310260  31   -64   \n",
       "1           NO  60773417766871   179  2147483647      675  nullnull  28   -86   \n",
       "14         YES  60775480278066   192       16175      675    310260  31   -67   \n",
       "15          NO  60775480278066   179  2147483647      675  nullnull  28   -86   \n",
       "34         YES  60777989277899   192       16175      675    310260  31   -65   \n",
       "35          NO  60777989277899   179  2147483647      675  nullnull  28   -86   \n",
       "50         YES  60780100909776   192       16175      675    310260  31   -76   \n",
       "51          NO  60780100909776   179  2147483647      675  nullnull  27   -92   \n",
       "54         YES  60780500794035   192       16175      675    310260  31   -76   \n",
       "55          NO  60780500794035   179  2147483647      675  nullnull  27   -92   \n",
       "\n",
       "    rsrq       rssnr         cqi          ta  \n",
       "0    -15  2147483647  2147483647  2147483647  \n",
       "1    -18  2147483647  2147483647  2147483647  \n",
       "14    -9  2147483647  2147483647  2147483647  \n",
       "15   -18  2147483647  2147483647  2147483647  \n",
       "34    -6  2147483647  2147483647  2147483647  \n",
       "35   -18  2147483647  2147483647  2147483647  \n",
       "50    -7  2147483647  2147483647  2147483647  \n",
       "51   -20  2147483647  2147483647  2147483647  \n",
       "54   -11  2147483647  2147483647  2147483647  \n",
       "55   -20  2147483647  2147483647  2147483647  "
      ]
     },
     "execution_count": 45,
     "metadata": {},
     "output_type": "execute_result"
    }
   ],
   "source": [
    "# Read in Data and set it up\n",
    "data = pd.read_csv('./testingProcess/processed_test4.txt')\n",
    "data = data.drop_duplicates()\n",
    "data = data[data['mPci'] > 0]\n",
    "data = data.sort_values(by=['mTimeStamp'])\n",
    "data.head(10)\n"
   ]
  },
  {
   "cell_type": "code",
   "execution_count": 38,
   "metadata": {},
   "outputs": [
    {
     "name": "stderr",
     "output_type": "stream",
     "text": [
      "/Users/Parth/.local/lib/python3.8/site-packages/pandas/core/frame.py:3607: SettingWithCopyWarning: \n",
      "A value is trying to be set on a copy of a slice from a DataFrame.\n",
      "Try using .loc[row_indexer,col_indexer] = value instead\n",
      "\n",
      "See the caveats in the documentation: https://pandas.pydata.org/pandas-docs/stable/user_guide/indexing.html#returning-a-view-versus-a-copy\n",
      "  self._set_item(key, value)\n"
     ]
    }
   ],
   "source": [
    "timestamp_list = np.unique(data['mTimeStamp'].tolist())\n",
    "data_x = []\n",
    "data_y = handover_list\n",
    "for time in timestamp_list:\n",
    "    selected_row = data[data['mTimeStamp']==time]\n",
    "    registered = selected_row[selected_row['mRegistered']==\"YES\"]\n",
    "    non_registered = selected_row[selected_row['mRegistered']==\"NO\"]\n",
    "    non_registered['TotalSum'] = non_registered['rsrp'] + non_registered['rsrq']\n",
    "    if(len(non_registered) == 0):\n",
    "        datapoint = [registered.iloc[0]['ss'], registered.iloc[0]['rsrp'], registered.iloc[0]['rsrq'], 0, 0, 0]\n",
    "    else:\n",
    "        datapoint = [registered.iloc[0]['ss'], registered.iloc[0]['rsrp'], registered.iloc[0]['rsrq'], non_registered.iloc[0]['ss'], non_registered.iloc[0]['rsrp'], non_registered.iloc[0]['rsrq']]\n",
    "    data_x.append(datapoint)\n"
   ]
  },
  {
   "cell_type": "code",
   "execution_count": 46,
   "metadata": {},
   "outputs": [
    {
     "name": "stdout",
     "output_type": "stream",
     "text": [
      "[30, -90, -17, 0, 0, 0]\n",
      "1\n"
     ]
    }
   ],
   "source": [
    "print(data_x[28])\n",
    "print(data_y[28])"
   ]
  },
  {
   "cell_type": "code",
   "execution_count": 47,
   "metadata": {},
   "outputs": [
    {
     "name": "stdout",
     "output_type": "stream",
     "text": [
      "Count of 0's in Training: 195\n",
      "Count of 1's in Training: 18\n",
      "True Positive Rate: 38.46%\n",
      "True Negative Rate: 67.74%\n"
     ]
    },
    {
     "data": {
      "text/plain": [
       "[Text(0.5, 15.0, 'Prediction'), Text(33.0, 0.5, 'Ground Truth')]"
      ]
     },
     "execution_count": 47,
     "metadata": {},
     "output_type": "execute_result"
    },
    {
     "data": {
      "image/png": "[encoded data removed]",
      "text/plain": [
       "<Figure size 432x288 with 2 Axes>"
      ]
     },
     "metadata": {
      "needs_background": "light"
     },
     "output_type": "display_data"
    }
   ],
   "source": [
    "X_train, X_test, y_train, y_test = train_test_split(data_x, data_y, test_size=0.33, random_state=42)\n",
    "\n",
    "# Weighted Class\n",
    "count_0 = y_train.count(0)\n",
    "count_1 = y_train.count(1)\n",
    "print(\"Count of 0's in Training: \" + str(count_0))\n",
    "print(\"Count of 1's in Training: \" + str(count_1))\n",
    "w = {0: count_1, 1: count_0}\n",
    "clf = LogisticRegression(random_state=0, class_weight=w).fit(X_train, y_train)\n",
    "\n",
    "# Make Predictions\n",
    "predictions = clf.predict(X_test)\n",
    "\n",
    "# Calculate Metrics\n",
    "tn, fp, fn, tp = confusion_matrix(y_test, predictions).ravel()\n",
    "# TPR\n",
    "TPR = tp / (tp + fn)\n",
    "print(f\"True Positive Rate: {TPR:2.2%}\")\n",
    "# TNR\n",
    "TNR = tn / (tn + fp)\n",
    "print(f\"True Negative Rate: {TNR:2.2%}\")\n",
    "\n",
    "# print(\"Confusion Matrix:\")\n",
    "s = sns.heatmap(confusion_matrix(y_test, predictions), annot=True)\n",
    "s.set(xlabel='Prediction', ylabel='Ground Truth')\n"
   ]
  },
  {
   "cell_type": "code",
   "execution_count": null,
   "metadata": {},
   "outputs": [],
   "source": []
  }
 ],
 "metadata": {
  "kernelspec": {
   "display_name": "Python 3.8.10 ('machineLearning')",
   "language": "python",
   "name": "python3"
  },
  "language_info": {
   "codemirror_mode": {
    "name": "ipython",
    "version": 3
   },
   "file_extension": ".py",
   "mimetype": "text/x-python",
   "name": "python",
   "nbconvert_exporter": "python",
   "pygments_lexer": "ipython3",
   "version": "3.8.10"
  },
  "orig_nbformat": 4,
  "vscode": {
   "interpreter": {
    "hash": "8980d6c1a0cde5b7b8e44f9a52aff7f9105e341b192603366e15e457a3016fc5"
   }
  }
 },
 "nbformat": 4,
 "nbformat_minor": 2
}
