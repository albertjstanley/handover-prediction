{
 "cells": [
  {
   "cell_type": "code",
   "execution_count": 81,
   "metadata": {},
   "outputs": [],
   "source": [
    "import pandas as pd\n",
    "import random\n",
    "from sklearn.model_selection import train_test_split\n",
    "from sklearn.linear_model import LogisticRegression\n",
    "from sklearn.metrics import accuracy_score\n",
    "from sklearn.metrics import confusion_matrix\n",
    "import seaborn as sns\n",
    "import numpy as np\n",
    "pd.set_option('display.max_rows', 200)\n"
   ]
  },
  {
   "cell_type": "code",
   "execution_count": 82,
   "metadata": {},
   "outputs": [
    {
     "name": "stdout",
     "output_type": "stream",
     "text": [
      "[-15, -9, -6, -7, -11, -9, -15, -12, -10, -11, -10, -13, -13, -11, -13]\n",
      "0\n"
     ]
    }
   ],
   "source": [
    "# Read in Data and set it up\n",
    "data = pd.read_csv('./testingProcess/processed_test4.txt')\n",
    "data = data.drop_duplicates()\n",
    "data = data[data['mPci'] > 0]\n",
    "data = data[data['mRegistered'] == \"YES\"]\n",
    "data = data.sort_values(by=['mTimeStamp'])\n",
    "\n",
    "# Create Column to find if handover occurec\n",
    "data['nextAP'] = data['mPci'].shift(-1)\n",
    "data = data[:-1]\n",
    "def label_handover_occured(row):\n",
    "    if row['mPci'] == row['nextAP']:\n",
    "        return 0\n",
    "    return 1\n",
    "data['handoverOccured'] = data.apply(lambda row: label_handover_occured(row), axis=1)\n",
    "\n",
    "# Creating Training Data\n",
    "data_X = []\n",
    "data_Y = []\n",
    "number_samples = 15\n",
    "for index in range(0, len(data)-number_samples):\n",
    "    dataframe = data.iloc[index:index+number_samples]\n",
    "    dataframe = dataframe[['rsrq', 'handoverOccured']]\n",
    "    data_X.append(dataframe['rsrq'].tolist())\n",
    "    data_Y.append(dataframe.iloc[number_samples-1]['handoverOccured'])\n",
    "\n",
    "print(data_X[0])\n",
    "print(data_Y[0])\n",
    "\n",
    "\n"
   ]
  },
  {
   "cell_type": "code",
   "execution_count": 83,
   "metadata": {},
   "outputs": [
    {
     "name": "stdout",
     "output_type": "stream",
     "text": [
      "Count of 0's: 184\n",
      "Count of 1's: 19\n",
      "True Positive Rate: 36.36%\n",
      "True Negative Rate: 68.89%\n"
     ]
    },
    {
     "data": {
      "text/plain": [
       "[Text(0.5, 15.0, 'Prediction'), Text(33.0, 0.5, 'Ground Truth')]"
      ]
     },
     "execution_count": 83,
     "metadata": {},
     "output_type": "execute_result"
    },
    {
     "data": {
      "image/png": "[encoded data removed]",
      "text/plain": [
       "<Figure size 432x288 with 2 Axes>"
      ]
     },
     "metadata": {
      "needs_background": "light"
     },
     "output_type": "display_data"
    }
   ],
   "source": [
    "X_train, X_test, y_train, y_test = train_test_split(data_X, data_Y, test_size=0.33, random_state=42)\n",
    "\n",
    "count_0 = y_train.count(0)\n",
    "count_1 = y_train.count(1)\n",
    "print(\"Count of 0's: \" + str(count_0))\n",
    "print(\"Count of 1's: \" + str(count_1))\n",
    "w = {0: count_1, 1: count_0}\n",
    "clf = LogisticRegression(random_state=0, class_weight=w).fit(X_train, y_train)\n",
    "predictions = clf.predict(X_test)\n",
    "\n",
    "tn, fp, fn, tp = confusion_matrix(y_test, predictions).ravel()\n",
    "\n",
    "# TPR\n",
    "TPR = tp / (tp + fn)\n",
    "print(f\"True Positive Rate: {TPR:2.2%}\")\n",
    "# TNR\n",
    "TNR = tn / (tn + fp)\n",
    "print(f\"True Negative Rate: {TNR:2.2%}\")\n",
    "\n",
    "# print(\"Confusion Matrix:\")\n",
    "s = sns.heatmap(confusion_matrix(y_test, predictions), annot=True)\n",
    "s.set(xlabel='Prediction', ylabel='Ground Truth')\n"
   ]
  },
  {
   "cell_type": "code",
   "execution_count": null,
   "metadata": {},
   "outputs": [],
   "source": [
    "# Add variable for timestamp instead of using the next row"
   ]
  }
 ],
 "metadata": {
  "kernelspec": {
   "display_name": "Python 3.8.10 ('machineLearning')",
   "language": "python",
   "name": "python3"
  },
  "language_info": {
   "codemirror_mode": {
    "name": "ipython",
    "version": 3
   },
   "file_extension": ".py",
   "mimetype": "text/x-python",
   "name": "python",
   "nbconvert_exporter": "python",
   "pygments_lexer": "ipython3",
   "version": "3.8.10"
  },
  "orig_nbformat": 4,
  "vscode": {
   "interpreter": {
    "hash": "8980d6c1a0cde5b7b8e44f9a52aff7f9105e341b192603366e15e457a3016fc5"
   }
  }
 },
 "nbformat": 4,
 "nbformat_minor": 2
}
